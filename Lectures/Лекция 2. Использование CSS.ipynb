{
  "cells": [
    {
      "cell_type": "markdown",
      "metadata": {
        "id": "-6zgxzxhX2hc"
      },
      "source": [
        "# **Лекция 3. Использование CSS**\n"
      ]
    },
    {
      "cell_type": "markdown",
      "metadata": {},
      "source": [
        "## Что такое CSS?"
      ]
    },
    {
      "cell_type": "markdown",
      "metadata": {},
      "source": [
        "`CSS` - это сложный язык разметки, обладающий довольно большой мощностью. \n",
        "\n",
        "`CSS` – это формальный язык, служащий для описания оформления внешнего вида документа, созданного с использованием языка разметки (HTML, XHTML, XML). Название происходит от английского `Cascading Style Sheets`, что означает «каскадные таблицы стилей».\n",
        "\n",
        "Этот язык позволяет:\n",
        "- добавлять макет или дизайн на веб страницы\n",
        "- делиться стилями от элемента к элементу и от страницы к странице. \n",
        "\n",
        "\n",
        "Важно точно знать, как визуализируются стили. В частности, нужно знать, как работают разные типы селекторов и как порядок этих селекторов может влиять на отображение стилей. \n",
        "\n",
        "Нужно понимать значения общих свойств, которые постоянно появляются в CSS, особенно те, которые имеют дело с цветом и длиной элементов."
      ]
    },
    {
      "cell_type": "markdown",
      "metadata": {},
      "source": [
        "## Модель коробки"
      ]
    },
    {
      "cell_type": "markdown",
      "metadata": {},
      "source": [
        "### `Все, что отображается в CSS, представляет собой прямоугольник. Таким образом, понимание того, как работает блочная модель CSS, является основной основой CSS.`"
      ]
    },
    {
      "cell_type": "markdown",
      "metadata": {},
      "source": [
        "В HTML-документе каждому элементу на странице соответствует прямоугольная область (бокс или блок). \n",
        "\n",
        "`Движок рендеринга` в браузере определяет размеры и положение боксов на странице, а также их свойства вроде цвета, фоновой картинки для того, чтобы отобразить их на экране."
      ]
    },
    {
      "cell_type": "markdown",
      "metadata": {},
      "source": [
        "Предположим, у вас есть такой фрагмент HTML:"
      ]
    },
    {
      "cell_type": "markdown",
      "metadata": {},
      "source": [
        "```html\n",
        "p>I am a paragraph of text that has a few words in it.</p>\n",
        "```"
      ]
    },
    {
      "cell_type": "markdown",
      "metadata": {},
      "source": [
        "Затем вы пишете для него этот CSS:"
      ]
    },
    {
      "cell_type": "markdown",
      "metadata": {},
      "source": [
        "```css\n",
        "p {\n",
        "  width: 100px;\n",
        "  height: 50px;\n",
        "  padding: 20px;\n",
        "  border: 1px solid;\n",
        "}\n",
        "```"
      ]
    },
    {
      "cell_type": "markdown",
      "metadata": {},
      "source": [
        "<iframe height=\"300\" style=\"width: 100%;\" scrolling=\"no\" title=\"Box overflow\" src=\"https://codepen.io/serjievg/embed/yLombQL?default-tab=html%2Cresult\" frameborder=\"no\" loading=\"lazy\" allowtransparency=\"true\" allowfullscreen=\"true\">\n",
        "  See the Pen <a href=\"https://codepen.io/serjievg/pen/yLombQL\">\n",
        "  Box overflow</a> by Чесноков Сергей Евгеньевич (<a href=\"https://codepen.io/serjievg\">@serjievg</a>)\n",
        "  on <a href=\"https://codepen.io\">CodePen</a>.\n",
        "</iframe>"
      ]
    },
    {
      "cell_type": "markdown",
      "metadata": {},
      "source": [
        "Контент выйдет за пределы вашего элемента и будет иметь ширину 142 пикселя, а не 100 пикселей.  \n",
        "\n",
        "`Блочная модель` - это основа CSS. Понимание того, как она работает, как на нее влияют другие аспекты CSS, как ее контролировать - поможет вам написать более предсказуемый CSS."
      ]
    },
    {
      "cell_type": "markdown",
      "metadata": {},
      "source": [
        "При написании CSS или работе в сети в целом важно помнить, что все, что отображается в CSS, представляет собой поле. \n",
        "\n",
        "Будь то прямоугольник, который выглядит как круг, или даже какой-то текст: нужно помнить, - что `это все прямоугольники`."
      ]
    },
    {
      "cell_type": "markdown",
      "metadata": {},
      "source": [
        "#### Отладка коробочной модели"
      ]
    },
    {
      "cell_type": "markdown",
      "metadata": {},
      "source": [
        "Браузерные средства `DevTools` обеспечивают визуализацию вычислений блочной модели для выбранного элемента HTML. Это позволяет понять, как работает блочная модель, и как она влияет на элементы веб-сайта в динамике."
      ]
    },
    {
      "cell_type": "markdown",
      "metadata": {},
      "source": [
        "### Содержание и размер"
      ]
    },
    {
      "cell_type": "markdown",
      "metadata": {},
      "source": [
        "Коробки имеют разное поведение в зависимости от их `ценности` (`display`), `установленных размеров` и `содержимого`, которое в них находится. \n",
        "\n",
        "Этим содержимым понимается множество других блоков (коробок), созданных дочерними элементами, или содержимое текстового поля. \n",
        "\n",
        "В любом случае это содержимое, по умолчанию, влияет на размер поля."
      ]
    },
    {
      "cell_type": "markdown",
      "metadata": {},
      "source": [
        "В CSS у нас есть два способа изменения размера: `внутренний (Intrinsic sizing)` и `внешний (Extrinsic sizing)`. Последний является наиболее распространенным, что означает использование фиксированных значений ширины или высоты элемента. \n",
        "\n",
        "Первый означает, что размер элемента зависит от размера его содержимого."
      ]
    },
    {
      "cell_type": "markdown",
      "metadata": {},
      "source": [
        "Вы можете контролировать представление элемента, используя `внешний размер`, или позволить браузеру принимать решения за вас в зависимости от размера контента, выставляя `внутренний размер`.\n",
        "\n",
        "Давайте быстро посмотрим на разницу этих ситуаций, используя демонстрацию."
      ]
    },
    {
      "cell_type": "markdown",
      "metadata": {},
      "source": [
        "<iframe height=\"400\" style=\"width: 100%;\" scrolling=\"no\" title=\"Extrinsic sizing\" src=\"https://codepen.io/serjievg/embed/WNEVwZP?default-tab=html%2Cresult\" frameborder=\"no\" loading=\"lazy\" allowtransparency=\"true\" allowfullscreen=\"true\">\n",
        "  See the Pen <a href=\"https://codepen.io/serjievg/pen/WNEVwZP\">\n",
        "  Extrinsic sizing</a> by Чесноков Сергей Евгеньевич (<a href=\"https://codepen.io/serjievg\">@serjievg</a>)\n",
        "  on <a href=\"https://codepen.io\">CodePen</a>.\n",
        "</iframe>"
      ]
    },
    {
      "cell_type": "markdown",
      "metadata": {},
      "source": [
        "В демонстрации есть слова `«CSS is awesome»` в поле с фиксированными размерами и толстой рамкой. \n",
        "\n",
        "Коробка имеет ширину, поэтому имеет внешний размер. Он контролирует размер своего дочернего содержимого. \n",
        "\n",
        "Проблема звключается в том, что слово «потрясающе» слишком велико для блока, поэтому оно выходит за пределы рамки границы родительского блока.\n",
        "\n",
        "Один из способов предотвратить это `переполнение` состоит в том, чтобы разрешить внутреннему размеру блока, либо сбросив ширину, либо, в данном случае, установив в `width` значение `min-content`. Значение представляет собой характеристическую предпочтительную ширину, оно говорит, что элемент должен быть равен ширине содержимого.\n",
        "\n",
        "Ключевое слово `min-content` указывает полю стать равным ширине внутренней минимальной ширины его содержания (слово «удивительный»). Это позволяет рамке идеально вписаться в «CSS is awesome»."
      ]
    },
    {
      "cell_type": "markdown",
      "metadata": {},
      "source": [
        "Давайте посмотрим на что-то более сложное, чтобы увидеть влияние различных размеров на реальный контент:"
      ]
    },
    {
      "cell_type": "markdown",
      "metadata": {},
      "source": [
        "<iframe height=\"400\" style=\"width: 100%;\" scrolling=\"no\" title=\"Content Sizing\" src=\"https://codepen.io/serjievg/embed/PoKMNRB?default-tab=html%2Cresult\" frameborder=\"no\" loading=\"lazy\" allowtransparency=\"true\" allowfullscreen=\"true\">\n",
        "  See the Pen <a href=\"https://codepen.io/serjievg/pen/PoKMNRB\">\n",
        "  Content Sizing</a> by Чесноков Сергей Евгеньевич (<a href=\"https://codepen.io/serjievg\">@serjievg</a>)\n",
        "  on <a href=\"https://codepen.io\">CodePen</a>.\n",
        "</iframe>"
      ]
    },
    {
      "cell_type": "markdown",
      "metadata": {},
      "source": [
        "Чтобы увидеть эффект, который оказывает внутреннее и внешнее изменение размеров, добавьте на карточку несколько предложений содержания. Когда этот элемент использует внешний размер, существует предел того, сколько контента вы можете добавить, прежде чем он выйдет за границы элемента, но это не в том случае, когда включен внутренний размер.\n",
        "\n",
        "По умолчанию у этого элемента есть набор `width` и `height` - оба по 400px. \n",
        "\n",
        "Эти размеры дают строгие границы всему внутри элемента, которые будут соблюдаться, если содержимое слишком велико для блока, и в этом случае произойдет видимое переполнение. \n",
        "\n",
        "Вы можете увидеть это в действии, изменив содержание подписи под изображением цветка на что-то, превышающее высоту рамки."
      ]
    },
    {
      "cell_type": "markdown",
      "metadata": {},
      "source": [
        "### `Когда содержимое слишком велико для коробки, в которой оно находится, это называют переполнением. Вы можете управлять тем, как элемент обрабатывает содержимое переполнения, используя свойство overflow.`"
      ]
    },
    {
      "cell_type": "markdown",
      "metadata": {},
      "source": [
        "Когда вы переключаетесь на собственное (внутреннее) определение размеров, то позволяете браузеру принимать решения за вас в зависимости от размера содержимого окна. \n",
        "\n",
        "Очень сложно получить переполнение с внутренним размером, потому что размер нашего блока будет изменяться вместе с его содержимым. И это более предпочтительный вариант, чем пытаться изменить размер содержимого. \n",
        "\n",
        "Важно помнить, что это гибкое поведение браузера работает по умолчанию. "
      ]
    },
    {
      "cell_type": "markdown",
      "metadata": {},
      "source": [
        "### Области коробочной модели"
      ]
    },
    {
      "cell_type": "markdown",
      "metadata": {},
      "source": [
        "Коробки состоят из отдельных областей блочной модели, каждая из которых выполняет определенную работу.\n",
        "\n",
        "Выделяют четыре основных области блочной модели: `margin (внешние отступы)`, `border (рамка)`, `padding (внутренние поля)`, и `content (контент или содержимое)`."
      ]
    },
    {
      "cell_type": "markdown",
      "metadata": {},
      "source": [
        "<img src=\"https://raw.githubusercontent.com/SerjiEvg/computer_science_course/c6e44a445a596877837bc6da8a5c5cc397c21257/Assignments%20for%20lectures/images/box%20model.svg\" width=\"600px\">"
      ]
    },
    {
      "cell_type": "markdown",
      "metadata": {},
      "source": [
        "Вы начинаете с `блока содержимого (Content Box)`, который представляет собой область c содержимым или контентом. \n",
        "\n",
        "Как вы узнали ранее - это содержимое может управлять размером своего родителя, поэтому обычно это область с самым изменяемым размером."
      ]
    },
    {
      "cell_type": "markdown",
      "metadata": {},
      "source": [
        "`Внутренняя область элемента (content area)` содержит текст и другие элементы, расположенные внутри (контент или содержимое). \n",
        "\n",
        "У неё часто бывает фон, цвет или изображение (в таком порядке: фоновый цвет скрывается под непрозрачным изображением), и она находится внутри content edge; её размеры называются `ширина контента (content width или content-box width)`, и `высота контента (content height или content-box height)`. \n",
        "\n",
        "Иногда ещё говорят «внутренняя ширина/высота элемента»"
      ]
    },
    {
      "cell_type": "markdown",
      "metadata": {},
      "source": [
        "`Поля элемента (padding area)` — это пустая область, окружающая контент. Она может быть залита каким-то цветом, покрыта фоновый картинкой, а её границы называются `края полей (padding edge)`.\n",
        "\n",
        "Размеры полей задаются по отдельности с разных сторон свойствами `padding-top, padding-right, padding-bottom, padding-left` или общим свойством `padding`."
      ]
    },
    {
      "cell_type": "markdown",
      "metadata": {},
      "source": [
        "Поскольку отступ находится внутри блока, фон блока будет виден в создаваемом им пространстве. \n",
        "\n",
        "Если в нашем поле установлены правила переполнения, такие как `overflow: auto` или `overflow: scroll`, полосы прокрутки тоже займут это пространство."
      ]
    },
    {
      "cell_type": "markdown",
      "metadata": {},
      "source": [
        "<iframe height=\"300\" style=\"width: 100%;\" scrolling=\"no\" title=\"Scrollbars\" src=\"https://codepen.io/serjievg/embed/rNzXebL?default-tab=html%2Cresult\" frameborder=\"no\" loading=\"lazy\" allowtransparency=\"true\" allowfullscreen=\"true\">\n",
        "  See the Pen <a href=\"https://codepen.io/serjievg/pen/rNzXebL\">\n",
        "  Scrollbars</a> by Чесноков Сергей Евгеньевич (<a href=\"https://codepen.io/serjievg\">@serjievg</a>)\n",
        "  on <a href=\"https://codepen.io\">CodePen</a>.\n",
        "</iframe>"
      ]
    },
    {
      "cell_type": "markdown",
      "metadata": {},
      "source": [
        "`Oбласть рамки (border area)` окружает поля элемента, а её граница называется `края рамки (border edge)`. \n",
        "\n",
        "Ширина рамки задаётся отдельным свойством `border-width` или в составе свойства `border`. Размеры элемента с учётом полей и рамки иногда называют `внешней шириной/высотой элемента`.\n",
        "\n",
        "Поле границы - это границы вашего поля, а край границы - это предел того, что вы можете визуально видеть. Свойство `border` используется для визуального кадра элемента."
      ]
    },
    {
      "cell_type": "markdown",
      "metadata": {},
      "source": [
        "`Отступы (margin area)` добавляют пустое пространство вокруг элемента и определяют расстояние до соседних элементов.\n",
        "\n",
        "Величина отступов задаётся по отдельности в разных направлениях свойствами `margin-top, margin-right, margin-bottom, margin-left` или общим свойством `margin`.\n",
        "\n",
        "Отступы двух соседних элементов, расположенных друг над другом или вложенных друг в друга, могут накладываться. Это называется `схлопывание границ (margin collapsing)`. Схлопываются только вертикальные отступы.\n",
        "\n",
        "Такие свойства, как `outline` и `box-shadow` занимают это пространство, потому что они нарисованы сверху, поэтому они не влияют на размер нашего блока. \n",
        "\n",
        "Вы могли бы иметь `outline-width` в `200px` в нашей коробке и все внутри и включая границу окна будет с точно таким же размером."
      ]
    },
    {
      "cell_type": "markdown",
      "metadata": {},
      "source": [
        "<iframe height=\"300\" style=\"width: 100%;\" scrolling=\"no\" title=\"Margin\" src=\"https://codepen.io/serjievg/embed/yLomJYO?default-tab=html%2Cresult\" frameborder=\"no\" loading=\"lazy\" allowtransparency=\"true\" allowfullscreen=\"true\">\n",
        "  See the Pen <a href=\"https://codepen.io/serjievg/pen/yLomJYO\">\n",
        "  Margin</a> by Чесноков Сергей Евгеньевич (<a href=\"https://codepen.io/serjievg\">@serjievg</a>)\n",
        "  on <a href=\"https://codepen.io\">CodePen</a>.\n",
        "</iframe>"
      ]
    },
    {
      "cell_type": "markdown",
      "metadata": {},
      "source": [
        "## Селекторы"
      ]
    },
    {
      "cell_type": "markdown",
      "metadata": {},
      "source": [
        "Предположим, у вас есть текст. Этот текст вы хотите сделать больше и краснее, особенно, если это первый абзац страницы. \n",
        "\n",
        "Как это сделать?"
      ]
    },
    {
      "cell_type": "markdown",
      "metadata": {},
      "source": [
        "```html\n",
        "<article>\n",
        "  <p>I want to be red and larger than the other text.</p>\n",
        "  <p>I want to be normal sized and the default color.</p>\n",
        "</article>\n",
        "```"
      ]
    },
    {
      "cell_type": "markdown",
      "metadata": {},
      "source": [
        "Вы используете селектор CSS, чтобы найти этот конкретный элемент и применить правило CSS, как это."
      ]
    },
    {
      "cell_type": "markdown",
      "metadata": {},
      "source": [
        "```css\n",
        "article p:first-of-type {\n",
        "  color: red;\n",
        "  font-size: 1.5em;\n",
        "}\n",
        "```"
      ]
    },
    {
      "cell_type": "markdown",
      "metadata": {},
      "source": [
        "CSS предоставляет вам множество опций для выбора элементов и применения к ним правил, от очень простых до очень сложных, чтобы помочь в решении подобных ситуаций."
      ]
    },
    {
      "cell_type": "markdown",
      "metadata": {},
      "source": [
        "<iframe height=\"300\" style=\"width: 100%;\" scrolling=\"no\" title=\"Selector 2\" src=\"https://codepen.io/serjievg/embed/gOxVMwE?default-tab=html%2Cresult\" frameborder=\"no\" loading=\"lazy\" allowtransparency=\"true\" allowfullscreen=\"true\">\n",
        "  See the Pen <a href=\"https://codepen.io/serjievg/pen/gOxVMwE\">\n",
        "  Selector 2</a> by Чесноков Сергей Евгеньевич (<a href=\"https://codepen.io/serjievg\">@serjievg</a>)\n",
        "  on <a href=\"https://codepen.io\">CodePen</a>.\n",
        "</iframe>"
      ]
    },
    {
      "cell_type": "markdown",
      "metadata": {},
      "source": [
        "### Части правила CSS"
      ]
    },
    {
      "cell_type": "markdown",
      "metadata": {},
      "source": [
        "Чтобы понять, как работают селекторы и их роль в CSS, важно знать `части правила CSS`. \n",
        "\n",
        "`Правило CSS` - это блок кода, содержащий один или несколько селекторов и одно или несколько объявлений."
      ]
    },
    {
      "cell_type": "markdown",
      "metadata": {},
      "source": [
        "<img src=\"https://raw.githubusercontent.com/SerjiEvg/computer_science_course/34e8e71257ba7486dedebd0988544fac9a7f5731/Assignments%20for%20lectures/images/rules%20css.svg\" width=\"600px\">"
      ]
    },
    {
      "cell_type": "markdown",
      "metadata": {},
      "source": [
        "В этом правиле CSS селектором является `.my-css-rule`, который находит все элементы с классом `my-css-rule` на странице. \n",
        "\n",
        "В фигурных скобках заключены три объявления. \n",
        "\n",
        "`Объявление` - это пара свойство и значение, которая применяет стили к элементам, совпадающими с селекторами. Правило CSS может иметь сколько угодно объявлений и селекторов."
      ]
    },
    {
      "cell_type": "markdown",
      "metadata": {},
      "source": [
        "### Простые селекторы"
      ]
    },
    {
      "cell_type": "markdown",
      "metadata": {},
      "source": [
        "Самая простая группа селекторов нацелена на элементы HTML плюс классы, идентификаторы и другие атрибуты, которые могут быть добавлены в тег HTML."
      ]
    },
    {
      "cell_type": "markdown",
      "metadata": {},
      "source": [
        "#### Универсальный селектор"
      ]
    },
    {
      "cell_type": "markdown",
      "metadata": {},
      "source": [
        "`Универсальный селектор` - также известен как подстановочный соответствует любому элементу."
      ]
    },
    {
      "cell_type": "markdown",
      "metadata": {},
      "source": [
        "```css\n",
        "* {\n",
        "  color: hotpink;\n",
        "}\n",
        "```"
      ]
    },
    {
      "cell_type": "markdown",
      "metadata": {},
      "source": [
        "Это правило приводит к тому, что каждый элемент HTML на странице содержит текст в розовом цвете."
      ]
    },
    {
      "cell_type": "markdown",
      "metadata": {},
      "source": [
        "#### Селектор типа"
      ]
    },
    {
      "cell_type": "markdown",
      "metadata": {},
      "source": [
        "Селектор типа соответствует непосредственно HTML элементу."
      ]
    },
    {
      "cell_type": "markdown",
      "metadata": {},
      "source": [
        "```css\n",
        "section {\n",
        "  padding: 2em;\n",
        "}\n",
        "```"
      ]
    },
    {
      "cell_type": "markdown",
      "metadata": {},
      "source": [
        "Это правило обязывает каждый элемент `<section>` установить значение 2em в padding со всех сторон."
      ]
    },
    {
      "cell_type": "markdown",
      "metadata": {},
      "source": [
        "#### Селектор класса"
      ]
    },
    {
      "cell_type": "markdown",
      "metadata": {},
      "source": [
        "Элемент HTML может иметь один или несколько элементов, определенных в их  атрибуте `class`. \n",
        "\n",
        "Селектор класса соответствует любому элементу, который имеет этот класс применяется к нему."
      ]
    },
    {
      "cell_type": "markdown",
      "metadata": {},
      "source": [
        "```html\n",
        "<div class=\"my-class\"></div>\n",
        "<button class=\"my-class\"></button>\n",
        "<p class=\"my-class\"></p>\n",
        "```"
      ]
    },
    {
      "cell_type": "markdown",
      "metadata": {},
      "source": [
        "Любой элемент, к которому применен класс, будет окрашен в красный цвет:"
      ]
    },
    {
      "cell_type": "markdown",
      "metadata": {},
      "source": [
        "```css\n",
        ".my-class {\n",
        "  color: red;\n",
        "}\n",
        "```"
      ]
    },
    {
      "cell_type": "markdown",
      "metadata": {},
      "source": [
        "Обратите внимание, что `.` присутствует только в CSS, а не в HTML. \n",
        "\n",
        "Это связано с тем, что символ `.` указывает языку CSS на соответствие атрибутам класса. Это распространенный шаблон в CSS, где специальный символ или набор символов используется для определения типов селекторов."
      ]
    },
    {
      "cell_type": "markdown",
      "metadata": {},
      "source": [
        "Элемент HTML, имеющий класс `.my-class` все-равно будет соответствовать указанному выше правилу CSS, даже если у него есть несколько других классов, например:"
      ]
    },
    {
      "cell_type": "markdown",
      "metadata": {},
      "source": [
        "```html\n",
        "<div class=\"my-class another-class some-other-class\"></div>\n",
        "```"
      ]
    },
    {
      "cell_type": "markdown",
      "metadata": {},
      "source": [
        "Это потому, что CSS ищет атрибут `class`, который содержит определенный класс, а не точно соответствует этому классу."
      ]
    },
    {
      "cell_type": "markdown",
      "metadata": {},
      "source": [
        "### `Значение атрибута класса может быть практически любым, каким вы хотите. Но вы не можете начинать класс (или идентификатор) с номера, например .1element.`"
      ]
    },
    {
      "cell_type": "markdown",
      "metadata": {},
      "source": [
        "#### Селектор ID"
      ]
    },
    {
      "cell_type": "markdown",
      "metadata": {},
      "source": [
        "Элемент HTML с  атрибутом `id` должен быть единственным элементом на странице с таким значением идентификатора. \n",
        "\n",
        "Вы выбираете элементы с помощью `селектора идентификатора` следующим образом:"
      ]
    },
    {
      "cell_type": "markdown",
      "metadata": {},
      "source": [
        "```css\n",
        "#rad {\n",
        "  border: 1px solid blue;\n",
        "}\n",
        "```"
      ]
    },
    {
      "cell_type": "markdown",
      "metadata": {},
      "source": [
        "Этот CSS применит синюю границу к элементу HTML, имеющему значение `id` из `rad`, например:"
      ]
    },
    {
      "cell_type": "markdown",
      "metadata": {},
      "source": [
        "```html\n",
        "<div id=\"rad\"></div>\n",
        "```"
      ]
    },
    {
      "cell_type": "markdown",
      "metadata": {},
      "source": [
        "Аналогично селектору классов `.` используйте символ `#`, чтобы указать CSS искать элемент, который соответствует `id` следующему за ним."
      ]
    },
    {
      "cell_type": "markdown",
      "metadata": {},
      "source": [
        "Если браузер встречает более одного экземпляра объекта `id` он все равно будет применять любые правила CSS, соответствующие его селектору. \n",
        "\n",
        "Однако любой элемент, имеющий  атрибут `id`, должен иметь уникальное значение для него, поэтому, если вы не пишете очень конкретный CSS для одного элемента, избегайте применения стилей с помощью  селектора `id`, поскольку это означает, что вы не можете повторно использовать эти стили в другом месте."
      ]
    },
    {
      "cell_type": "markdown",
      "metadata": {},
      "source": [
        "#### Селектор атрибутов"
      ]
    },
    {
      "cell_type": "markdown",
      "metadata": {},
      "source": [
        "Вы можете искать элементы, которые имеют определенный атрибут HTML или имеют определенное значение для атрибута HTML, используя селектор атрибутов. \n",
        "\n",
        "Попросите CSS искать атрибуты, заключив селектор в квадратные скобки ([ ])."
      ]
    },
    {
      "cell_type": "markdown",
      "metadata": {},
      "source": [
        "```css\n",
        "[data-type='primary'] {\n",
        "  color: red;\n",
        "}\n",
        "```"
      ]
    },
    {
      "cell_type": "markdown",
      "metadata": {},
      "source": [
        "Этот CSS ищет все элементы, у которых есть атрибут `data-type` со значением `primary`, например:"
      ]
    },
    {
      "cell_type": "markdown",
      "metadata": {},
      "source": [
        "```html\n",
        "<div data-type=\"primary\"></div>\n",
        "```"
      ]
    },
    {
      "cell_type": "markdown",
      "metadata": {},
      "source": [
        "Вместо того, чтобы искать конкретное значение `data-type`, вы также можете искать элементы с присутствующим атрибутом, независимо от его значения."
      ]
    },
    {
      "cell_type": "markdown",
      "metadata": {},
      "source": [
        "```css\n",
        "[data-type] {\n",
        "  color: red;\n",
        "}\n",
        "```"
      ]
    },
    {
      "cell_type": "markdown",
      "metadata": {},
      "source": [
        "```html\n",
        "<div data-type=\"primary\"></div>\n",
        "<div data-type=\"secondary\"></div>\n",
        "```"
      ]
    },
    {
      "cell_type": "markdown",
      "metadata": {},
      "source": [
        "У обоих этих  элементов `<div>` будет красный текст."
      ]
    },
    {
      "cell_type": "markdown",
      "metadata": {},
      "source": [
        "Вы можете использовать селекторы атрибутов с учетом регистра, добавив оператор `s` к селектору атрибутов."
      ]
    },
    {
      "cell_type": "markdown",
      "metadata": {},
      "source": [
        "```css\n",
        "[data-type='primary' s] {\n",
        "  color: red;\n",
        "}\n",
        "```"
      ]
    },
    {
      "cell_type": "markdown",
      "metadata": {},
      "source": [
        "Это означает, что если элемент HTML `data-type` задается как `Primary` вместо `primary`, он не получит красный текст. \n",
        "\n",
        "Вы можете сделать обратное - нечувствительность к регистру - с помощью  оператора `i`."
      ]
    },
    {
      "cell_type": "markdown",
      "metadata": {},
      "source": [
        "Наряду с операторами `case` у вас есть доступ к операторам, которые сопоставляют части строк внутри значений атрибутов."
      ]
    },
    {
      "cell_type": "markdown",
      "metadata": {},
      "source": [
        "```css\n",
        "/* A href that contains \"example.com\" */\n",
        "[href*='example.com'] {\n",
        "  color: red;\n",
        "}\n",
        "\n",
        "/* A href that starts with https */\n",
        "[href^='https'] {\n",
        "  color: green;\n",
        "}\n",
        "\n",
        "/* A href that ends with .com */\n",
        "[href$='.com'] {\n",
        "  color: blue;\n",
        "}\n",
        "```"
      ]
    },
    {
      "cell_type": "markdown",
      "metadata": {},
      "source": [
        "<iframe height=\"300\" style=\"width: 100%;\" scrolling=\"no\" title=\"Attribute selectors\" src=\"https://codepen.io/serjievg/embed/XWavKoZ?default-tab=html%2Cresult\" frameborder=\"no\" loading=\"lazy\" allowtransparency=\"true\" allowfullscreen=\"true\">\n",
        "  See the Pen <a href=\"https://codepen.io/serjievg/pen/XWavKoZ\">\n",
        "  Attribute selectors</a> by Чесноков Сергей Евгеньевич (<a href=\"https://codepen.io/serjievg\">@serjievg</a>)\n",
        "  on <a href=\"https://codepen.io\">CodePen</a>.\n",
        "</iframe>"
      ]
    },
    {
      "cell_type": "markdown",
      "metadata": {},
      "source": [
        "#### Селекторы группировки"
      ]
    },
    {
      "cell_type": "markdown",
      "metadata": {},
      "source": [
        "Селектор не обязательно должен соответствовать только одному элементу. Вы можете сгруппировать несколько селекторов, разделив их запятыми:"
      ]
    },
    {
      "cell_type": "markdown",
      "metadata": {},
      "source": [
        "```css\n",
        "strong,\n",
        "em,\n",
        ".my-class,\n",
        "[lang] {\n",
        "  color: red;\n",
        "}\n",
        "```"
      ]
    },
    {
      "cell_type": "markdown",
      "metadata": {},
      "source": [
        "В этом примере изменение цвета распространяется как на элементы `<strong>`, так и на элементы `<em>`. Он также расширен до класса с именем `.my-class` и элемента с атрибутом `lang`."
      ]
    },
    {
      "cell_type": "markdown",
      "metadata": {},
      "source": [
        "## Псевдоклассы и псевдоэлементы"
      ]
    },
    {
      "cell_type": "markdown",
      "metadata": {},
      "source": [
        "CSS предоставляет полезные типы селекторов, которые фокусируются на определенном состоянии платформы, например, когда элемент наведен, структуры внутри элемента или части элемента."
      ]
    },
    {
      "cell_type": "markdown",
      "metadata": {},
      "source": [
        "### Псевдоклассы"
      ]
    },
    {
      "cell_type": "markdown",
      "metadata": {},
      "source": [
        "Элементы HTML находятся в разных состояниях либо потому, что с ними взаимодействуют, либо потому, что один из их дочерних элементов находится в определенном состоянии.\n",
        "\n",
        "Так, например, чтобы узнать что над HTML элементом находится указатель мыши, используется псевдокласс `:hover`."
      ]
    },
    {
      "cell_type": "markdown",
      "metadata": {},
      "source": [
        "```css\n",
        "/* Our link is hovered */\n",
        "a:hover {\n",
        "  outline: 1px dotted green;\n",
        "}\n",
        "\n",
        "/* Sets all even paragraphs to have a different background */\n",
        "p:nth-child(even) {\n",
        "  background: floralwhite;\n",
        "}\n",
        "```"
      ]
    },
    {
      "cell_type": "markdown",
      "metadata": {},
      "source": [
        "### Псевдоэлемент"
      ]
    },
    {
      "cell_type": "markdown",
      "metadata": {},
      "source": [
        "Псевдоэлементы отличаются от псевдоклассов, потому что вместо того, чтобы реагировать на состояние платформы, они действуют так, как если бы они добавляли новый элемент с помощью CSS. \n",
        "\n",
        "Псевдоэлементы также синтаксически отличаются от псевдоклассов, потому что вместо использования одного двоеточия (:) мы используем двойное двоеточие (::)."
      ]
    },
    {
      "cell_type": "markdown",
      "metadata": {},
      "source": [
        "```css\n",
        ".my-element::before {\n",
        "  content: 'Prefix - ';\n",
        "}\n",
        "```"
      ]
    },
    {
      "cell_type": "markdown",
      "metadata": {},
      "source": [
        "Как и в приведенной выше демонстрации, где вы указали префикс метки ссылки типом файла, вы можете использовать  псевдоэлемент `::before` для вставки содержимого в начало элемента или  псевдоэлемент `::after` для вставки содержимого в конец элемента."
      ]
    },
    {
      "cell_type": "markdown",
      "metadata": {},
      "source": [
        "Однако псевдоэлементы не ограничиваются вставкой содержимого. Вы также можете использовать их для нацеливания на определенные части элемента. \n",
        "\n",
        "Например, предположим, что у вас есть список. Используйте `::marker` для стилизации каждого маркера (или номера) в списке."
      ]
    },
    {
      "cell_type": "markdown",
      "metadata": {},
      "source": [
        "```css\n",
        "/* Your list will now either have red dots, or red numbers */\n",
        "li::marker {\n",
        "  color: red;\n",
        "}\n",
        "```"
      ]
    },
    {
      "cell_type": "markdown",
      "metadata": {},
      "source": [
        "Вы также можете использовать `::selection` для стилизации содержимого, выделенного пользователем."
      ]
    },
    {
      "cell_type": "markdown",
      "metadata": {},
      "source": [
        "```css\n",
        "::selection {\n",
        "  background: black;\n",
        "  color: white;\n",
        "}\n",
        "```"
      ]
    },
    {
      "cell_type": "markdown",
      "metadata": {},
      "source": [
        "## Сложные селекторы"
      ]
    },
    {
      "cell_type": "markdown",
      "metadata": {},
      "source": [
        "Вы уже видели огромное количество селекторов, но иногда вам понадобится более детальный контроль с помощью CSS. Здесь на помощь приходят сложные селекторы.\n",
        "\n",
        "Cтоит помнить, что, хотя селекторы дают нам больше возможностей, мы можем только каскадировать вниз, выбирая дочерние элементы. Мы не можем идти вверх и выбирать родительский элемент. "
      ]
    },
    {
      "cell_type": "markdown",
      "metadata": {},
      "source": [
        "### Комбинаторы"
      ]
    },
    {
      "cell_type": "markdown",
      "metadata": {},
      "source": [
        "`Комбинатор` - это то, что находится между двумя селекторами. \n",
        "\n",
        "Например, если был селектор `p > strong`, комбинатор - это символ `>`. \n",
        "\n",
        "Селекторы, которые используют эти комбинаторы, помогают вам выбирать элементы в зависимости от их положения в документе."
      ]
    },
    {
      "cell_type": "markdown",
      "metadata": {},
      "source": [
        "#### Комбинатор потомков "
      ]
    },
    {
      "cell_type": "markdown",
      "metadata": {},
      "source": [
        "Чтобы понять комбинаторы потомков, вам нужно сначала понять родительские и дочерние элементы."
      ]
    },
    {
      "cell_type": "markdown",
      "metadata": {},
      "source": [
        "```html\n",
        "<p>A paragraph of text with some <strong>bold text for emphasis</strong>.</p>\n",
        "```"
      ]
    },
    {
      "cell_type": "markdown",
      "metadata": {},
      "source": [
        "`Родительский элемент` - это элемент `<p>`, содержащий текст. Внутри этого элемента `<p>` находится элемент `<strong>`, выделенный жирным шрифтом. Поскольку он находится внутри `<p>` - это дочерний элемент."
      ]
    },
    {
      "cell_type": "markdown",
      "metadata": {},
      "source": [
        "Комбинатор потомков позволяет нам нацеливаться на дочерний элемент. Здесь используется пробел ( ), чтобы указать браузеру искать дочерние элементы:"
      ]
    },
    {
      "cell_type": "markdown",
      "metadata": {},
      "source": [
        "```css\n",
        "p strong {\n",
        "  color: blue;\n",
        "}\n",
        "```"
      ]
    },
    {
      "cell_type": "markdown",
      "metadata": {},
      "source": [
        "Этот фрагмент кода выбирает все элементы `<strong>`, которые являются дочерними элементами `<p>` только для элементов, рекурсивно делая их синими."
      ]
    },
    {
      "cell_type": "markdown",
      "metadata": {},
      "source": [
        "<iframe height=\"300\" style=\"width: 100%;\" scrolling=\"no\" title=\"Combinator\" src=\"https://codepen.io/serjievg/embed/NWvQRNp?default-tab=html%2Cresult\" frameborder=\"no\" loading=\"lazy\" allowtransparency=\"true\" allowfullscreen=\"true\">\n",
        "  See the Pen <a href=\"https://codepen.io/serjievg/pen/NWvQRNp\">\n",
        "  Combinator</a> by Чесноков Сергей Евгеньевич (<a href=\"https://codepen.io/serjievg\">@serjievg</a>)\n",
        "  on <a href=\"https://codepen.io\">CodePen</a>.\n",
        "</iframe>"
      ]
    },
    {
      "cell_type": "markdown",
      "metadata": {},
      "source": [
        "Этот эффект лучше визуализируются в приведенном выше примере, с помощью переключателя комбинатора `.top div`. \n",
        "\n",
        "Это правило CSS добавляет к этим элементам `<div>` левый отступ. Поскольку комбинатор является рекурсивным, ко всем элементам `<div>`, входящим в него, будет применено одно и то же заполнение `.top`."
      ]
    },
    {
      "cell_type": "markdown",
      "metadata": {},
      "source": [
        "Взгляните на панель HTML в этой демонстрации, чтобы увидеть, что  элемент `.top` имеет несколько дочерних элементов `<div>`, которые сами имеют дочерние элементы `<div>`."
      ]
    },
    {
      "cell_type": "markdown",
      "metadata": {},
      "source": [
        "#### Комбинатор следующего родственника"
      ]
    },
    {
      "cell_type": "markdown",
      "metadata": {},
      "source": [
        "Вы можете найти элемент, который следует сразу за другим элементом, используя символ `+` в вашем селекторе."
      ]
    },
    {
      "cell_type": "markdown",
      "metadata": {},
      "source": [
        "<iframe height=\"300\" style=\"width: 100%;\" scrolling=\"no\" title=\"Combinator Sibling\" src=\"https://codepen.io/serjievg/embed/ZEJgppo?default-tab=html%2Cresult\" frameborder=\"no\" loading=\"lazy\" allowtransparency=\"true\" allowfullscreen=\"true\">\n",
        "  See the Pen <a href=\"https://codepen.io/serjievg/pen/ZEJgppo\">\n",
        "  Combinator Sibling</a> by Чесноков Сергей Евгеньевич (<a href=\"https://codepen.io/serjievg\">@serjievg</a>)\n",
        "  on <a href=\"https://codepen.io\">CodePen</a>.\n",
        "</iframe>"
      ]
    },
    {
      "cell_type": "markdown",
      "metadata": {},
      "source": [
        "Чтобы добавить пространство между элементами в стеке, используйте комбинатор `next sibling` для добавления пробела только в том случае, если элемент является следующим родственником дочернего элемента `.top`."
      ]
    },
    {
      "cell_type": "markdown",
      "metadata": {},
      "source": [
        "Вы можете добавить смещение ко всем дочерним элементам `.top`, используя следующий селектор:"
      ]
    },
    {
      "cell_type": "markdown",
      "metadata": {},
      "source": [
        "```css\n",
        ".top * {\n",
        "  margin-top: 1em;\n",
        "}\n",
        "```"
      ]
    },
    {
      "cell_type": "markdown",
      "metadata": {},
      "source": [
        "Проблема в том, что, поскольку вы выбираете каждый дочерний элемент `.top`, это правило потенциально создает дополнительное ненужное пространство. \n",
        "\n",
        "Следующий родственный комбинатор, смешанный с универсальным селектором позволяет не только контролировать, какие элементы получают пространство, но и применять пространство для любого элемента. \n",
        "\n",
        "Это дает вам некоторую долгосрочную гибкость, независимо от того, в каких HTML-элементах появляются `.top`."
      ]
    },
    {
      "cell_type": "markdown",
      "metadata": {},
      "source": [
        "#### Последующий родственный комбинатор"
      ]
    },
    {
      "cell_type": "markdown",
      "metadata": {},
      "source": [
        "Последующий комбинатор очень похож на селектор следующего родственника. Однако вместо + персонажа используйте  иероглиф ~. \n",
        "\n",
        "Отличие заключается в том, что элемент просто должен следовать за другим элементом с тем же родителем, а не быть следующим элементом с тем же родителем."
      ]
    },
    {
      "cell_type": "markdown",
      "metadata": {},
      "source": [
        "<iframe height=\"300\" style=\"width: 100%;\" scrolling=\"no\" title=\"Combinator Sibling Next\" src=\"https://codepen.io/serjievg/embed/KKvOgaZ?default-tab=html%2Cresult\" frameborder=\"no\" loading=\"lazy\" allowtransparency=\"true\" allowfullscreen=\"true\">\n",
        "  See the Pen <a href=\"https://codepen.io/serjievg/pen/KKvOgaZ\">\n",
        "  Combinator Sibling Next</a> by Чесноков Сергей Евгеньевич (<a href=\"https://codepen.io/serjievg\">@serjievg</a>)\n",
        "  on <a href=\"https://codepen.io\">CodePen</a>.\n",
        "</iframe>"
      ]
    },
    {
      "cell_type": "markdown",
      "metadata": {},
      "source": [
        "Этот последующий комбинатор обеспечивает немного меньшую жесткость, что полезно в контекстах, подобных приведенному выше примеру, где мы меняем цвет настраиваемого переключателя, когда связанный с ним флажок находится в  состоянии `:checked`."
      ]
    },
    {
      "cell_type": "markdown",
      "metadata": {},
      "source": [
        "#### Дочерний комбинатор"
      ]
    },
    {
      "cell_type": "markdown",
      "metadata": {},
      "source": [
        "Дочерний комбинатор (также известный как прямой потомок) позволяет вам больше контролировать рекурсию, которая идет с селекторами комбинатора. Используя этот >символ, вы ограничиваете применение селектора комбинатора только к прямым дочерним элементам."
      ]
    },
    {
      "cell_type": "markdown",
      "metadata": {},
      "source": [
        "Рассмотрим предыдущий, следующий пример одноуровневого селектора. Пространство добавляется к каждому следующему одноуровневому элементу , но если один из этих элементов также имеет следующие одноуровневые элементы в качестве дочерних, это может привести к нежелательному дополнительному интервалу."
      ]
    },
    {
      "cell_type": "markdown",
      "metadata": {},
      "source": [
        "<iframe height=\"300\" style=\"width: 100%;\" scrolling=\"no\" title=\"Next sibling selector\" src=\"https://codepen.io/serjievg/embed/bGrXwWW?default-tab=html%2Cresult\" frameborder=\"no\" loading=\"lazy\" allowtransparency=\"true\" allowfullscreen=\"true\">\n",
        "  See the Pen <a href=\"https://codepen.io/serjievg/pen/bGrXwWW\">\n",
        "  Next sibling selector</a> by Чесноков Сергей Евгеньевич (<a href=\"https://codepen.io/serjievg\">@serjievg</a>)\n",
        "  on <a href=\"https://codepen.io\">CodePen</a>.\n",
        "</iframe>"
      ]
    },
    {
      "cell_type": "markdown",
      "metadata": {},
      "source": [
        "Чтобы решить эту проблему, измените следующий селектор родственного включить дочерний комбинатор: > * + *. Правило теперь будет применяться только к прямым дочерним элементам .top."
      ]
    },
    {
      "cell_type": "markdown",
      "metadata": {},
      "source": [
        "<iframe height=\"300\" style=\"width: 100%;\" scrolling=\"no\" title=\"Next sibling selector 2\" src=\"https://codepen.io/serjievg/embed/mdMNrwP?default-tab=html%2Cresult\" frameborder=\"no\" loading=\"lazy\" allowtransparency=\"true\" allowfullscreen=\"true\">\n",
        "  See the Pen <a href=\"https://codepen.io/serjievg/pen/mdMNrwP\">\n",
        "  Next sibling selector 2</a> by Чесноков Сергей Евгеньевич (<a href=\"https://codepen.io/serjievg\">@serjievg</a>)\n",
        "  on <a href=\"https://codepen.io\">CodePen</a>.\n",
        "</iframe>"
      ]
    },
    {
      "cell_type": "markdown",
      "metadata": {},
      "source": [
        "### Составные селекторы"
      ]
    },
    {
      "cell_type": "markdown",
      "metadata": {},
      "source": [
        "Вы можете комбинировать селекторы, чтобы повысить конкретность и удобочитаемость. Например, для целевых <a>элементов, которые также имеют класс .my-class, напишите следующее:"
      ]
    },
    {
      "cell_type": "markdown",
      "metadata": {},
      "source": [
        "```css\n",
        "a.my-class {\n",
        "  color: red;\n",
        "}\n",
        "```"
      ]
    },
    {
      "cell_type": "markdown",
      "metadata": {},
      "source": [
        "Это не будет применять красный цвет для всех ссылок и также будет применяться только красный цвет , .my-class если он был на <a>элементе."
      ]
    },
    {
      "cell_type": "markdown",
      "metadata": {},
      "source": [
        "## Каскад"
      ]
    },
    {
      "cell_type": "markdown",
      "metadata": {},
      "source": [
        "Мы начнем разбирать, как именно рендерится стили, при рассмотрении так называемого каскада. \n",
        "\n",
        "В CSS все стили каскадируются от верха таблицы стилей к низу, позволяя добавлять или перезаписывать разные стили по мере продвижения таблицы стилей.\n",
        "\n",
        "Например, предположим, что мы выбираем все элементы абзаца в верхней части нашей таблицы стилей и устанавливаем для них цвет фона orangeи размер шрифта в 24пикселях. Затем в нижней части нашей таблицы стилей мы снова выбираем все элементы абзаца и устанавливаем для них цвет фона green, как показано здесь."
      ]
    },
    {
      "cell_type": "markdown",
      "metadata": {},
      "source": [
        "```css\n",
        "p {\n",
        "  background: orange;\n",
        "  font-size: 24px;\n",
        "}\n",
        "p {\n",
        "  background: green;\n",
        "}\n",
        "```"
      ]
    },
    {
      "cell_type": "markdown",
      "metadata": {},
      "source": [
        "Поскольку селектор абзаца, который устанавливает цвет фона, greenидет после селектора абзаца, который устанавливает цвет фона orange, он будет иметь приоритет в каскаде. Все абзацы появятся с greenфоном. Размер шрифта останется в 24пикселях, потому что второй селектор абзаца не определил новый размер шрифта."
      ]
    },
    {
      "cell_type": "markdown",
      "metadata": {},
      "source": [
        "### Каскадные свойства"
      ]
    },
    {
      "cell_type": "markdown",
      "metadata": {},
      "source": [
        "Каскад также работает со свойствами внутри отдельных селекторов. Снова, например, предположим, что мы выбираем все элементы абзаца и устанавливаем для них цвет фона orange. Затем непосредственно под объявлением orangeсвойства и значения фона мы добавляем еще одно объявление свойства и значения, устанавливающее цвет фона green, как показано здесь."
      ]
    },
    {
      "cell_type": "markdown",
      "metadata": {},
      "source": [
        "```css\n",
        "p {\n",
        "  background: orange;\n",
        "  background: green;\n",
        "}\n",
        "```"
      ]
    },
    {
      "cell_type": "markdown",
      "metadata": {},
      "source": [
        "Поскольку greenобъявление цвета фона идет после orangeобъявления цвета фона, оно будет иметь приоритет над orangeфоном, и, как и раньше, наши абзацы будут отображаться с greenфоном.\n",
        "\n",
        "Все стили будут располагаться каскадом от верха нашей таблицы стилей к низу нашей таблицы стилей. Однако бывают случаи, когда каскад работает не так хорошо. Такие моменты возникают, когда используются разные типы селекторов, и специфика этих селекторов нарушает каскад. Давайте взглянем."
      ]
    },
    {
      "cell_type": "markdown",
      "metadata": {},
      "source": [
        "### Специфичность селекторов"
      ]
    },
    {
      "cell_type": "markdown",
      "metadata": {},
      "source": [
        "Каждый селектор в CSS имеет определенный вес. \n",
        "\n",
        "`Вес специфичности` селектора вместе с его размещением в каскаде определяет, как будут отображаться его стили."
      ]
    },
    {
      "cell_type": "markdown",
      "metadata": {},
      "source": [
        "Селектор типа имеет самый низкий вес специфичности и имеет значение в баллах 0-0-1. \n",
        "\n",
        "Селектор класса имеет средний вес специфичности и имеет значение в баллах 0-1-0. \n",
        "\n",
        "Наконец, селектор ID имеет высокий вес специфичности и имеет значение в баллах 1-0-0. \n",
        "\n",
        "Как видим, баллы специфичности рассчитываются по трем столбцам. В первом столбце подсчитываются селекторы идентификаторов, во втором столбце подсчитываются селекторы классов, а в третьем столбце подсчитываются селекторы типов."
      ]
    },
    {
      "cell_type": "markdown",
      "metadata": {},
      "source": [
        "Здесь важно отметить, что селектор идентификатора имеет более высокий вес специфичности, чем селектор класса, а селектор класса имеет более высокий вес специфичности, чем селектор типа."
      ]
    },
    {
      "cell_type": "markdown",
      "metadata": {},
      "source": [
        "Чем выше вес специфичности селектора, тем большее преимущество отдается селектору при возникновении конфликта стилей. \n",
        "\n",
        "Например, если элемент абзаца выбран с помощью селектора типа в одном месте и селектора идентификатора в другом, селектор идентификатора будет иметь приоритет над селектором типа независимо от того, где селектор идентификатора появляется в каскаде."
      ]
    },
    {
      "cell_type": "markdown",
      "metadata": {},
      "source": [
        "<iframe height=\"300\" style=\"width: 100%;\" scrolling=\"no\" title=\"Selector 1\" src=\"https://codepen.io/serjievg/embed/yLodbEN?default-tab=html%2Cresult\" frameborder=\"no\" loading=\"lazy\" allowtransparency=\"true\" allowfullscreen=\"true\">\n",
        "  See the Pen <a href=\"https://codepen.io/serjievg/pen/yLodbEN\">\n",
        "  Selector 1</a> by Чесноков Сергей Евгеньевич (<a href=\"https://codepen.io/serjievg\">@serjievg</a>)\n",
        "  on <a href=\"https://codepen.io\">CodePen</a>.\n",
        "</iframe>"
      ]
    },
    {
      "cell_type": "markdown",
      "metadata": {},
      "source": [
        "Здесь у нас есть элемент абзаца со  значением `food` атрибута `id`. \n",
        "\n",
        "В нашем CSS этот абзац выбирается двумя разными типами селекторов: одним селектором типа и одним селектором идентификатора. \n",
        "\n",
        "Хотя селектор типа идет после селектора идентификатора в каскаде, селектор идентификатора имеет приоритет над селектором типа, потому что он имеет более высокий вес специфичности; следовательно, абзац появится с фоном `green`."
      ]
    },
    {
      "cell_type": "markdown",
      "metadata": {},
      "source": [
        "Невероятно важно помнить о весе специфичности различных типов селекторов. \n",
        "\n",
        "Иногда стили могут не отображаться в элементах должным образом, и есть вероятность, что веса специфичности наших селекторов нарушают каскад, поэтому наши стили не отображаются должным образом."
      ]
    },
    {
      "cell_type": "markdown",
      "metadata": {},
      "source": [
        "Понимание того, как работают каскад и специфичность, является огромным препятствием, и мы продолжим освещать эту тему. \n",
        "\n",
        "А пока давайте посмотрим, как сделать наши селекторы более конкретными и целенаправленными, комбинируя их. Имейте в виду, что, комбинируя селекторы, мы также изменим их специфику."
      ]
    },
    {
      "cell_type": "markdown",
      "metadata": {},
      "source": [
        "### Объединение селекторов"
      ]
    },
    {
      "cell_type": "markdown",
      "metadata": {},
      "source": [
        "До сих пор мы рассматривали, как использовать разные типы селекторов по отдельности, но нам также нужно знать, как использовать эти селекторы вместе. \n",
        "\n",
        "Комбинируя селекторы, мы можем более точно определить, какой элемент или группу элементов мы хотим выбрать."
      ]
    },
    {
      "cell_type": "markdown",
      "metadata": {},
      "source": [
        "Например, предположим, что мы хотим выбрать все элементы абзаца, которые находятся в элементе со значением атрибута класса `hotdog`, и установить для них цвет фона `brown`. \n",
        "\n",
        "Однако, если один из этих абзацев имеет значение атрибута класса `mustard`, мы хотим установить для него цвет фона `yellow`. \n",
        "\n",
        "Наши HTML и CSS могут выглядеть следующим образом:"
      ]
    },
    {
      "cell_type": "markdown",
      "metadata": {},
      "source": [
        "<iframe height=\"300\" style=\"width: 100%;\" scrolling=\"no\" title=\"Selected 2\" src=\"https://codepen.io/serjievg/embed/abygWXy?default-tab=html%2Cresult\" frameborder=\"no\" loading=\"lazy\" allowtransparency=\"true\" allowfullscreen=\"true\">\n",
        "  See the Pen <a href=\"https://codepen.io/serjievg/pen/abygWXy\">\n",
        "  Selected 2</a> by Чесноков Сергей Евгеньевич (<a href=\"https://codepen.io/serjievg\">@serjievg</a>)\n",
        "  on <a href=\"https://codepen.io\">CodePen</a>.\n",
        "</iframe>"
      ]
    },
    {
      "cell_type": "markdown",
      "metadata": {},
      "source": [
        "Когда селекторы объединены, их следует читать справа налево. \n",
        "\n",
        "Крайний правый селектор, непосредственно перед открывающей фигурной скобкой, называется клавишным селектором . \n",
        "\n",
        "Селектор ключа точно определяет, к какому элементу будут применены стили. Любой селектор слева от ключевого селектора будет служить предварительным квалификатором."
      ]
    },
    {
      "cell_type": "markdown",
      "metadata": {},
      "source": [
        "Первый комбинированный селектор `.hotdog p`, включает два селектора: селектор класса и селектор типа. \n",
        "\n",
        "Эти два селектора разделены одним пробелом. Ключевой селектор - это селектор типа, нацеленный на элементы абзаца. И поскольку этот селектор типа предварительно квалифицируется с помощью селектора класса `hotdog`, полный комбинированный селектор будет выбирать только элементы абзаца, которые находятся в элементе со значением атрибута класса `hotdog`."
      ]
    },
    {
      "cell_type": "markdown",
      "metadata": {},
      "source": [
        "Второй селектор, `.hotdog p.mustard`, включает в себя три селектора: два селектора класса и один селектор типа. \n",
        "\n",
        "Единственная разница между вторым селектором и первым селектором - это добавление селектора класса mustardили в конец селектора типа абзаца. \n",
        "\n",
        "Поскольку новый селектор класса, `mustard`, располагается полностью справа от комбинированного селектора, он является ключевым селектором, а все отдельные селекторы, предшествующие ему, теперь являются преквалификаторами."
      ]
    },
    {
      "cell_type": "markdown",
      "metadata": {},
      "source": [
        "В предыдущем комбинированном селекторе `.hotdog p.mustard` есть пробел между `hotdog` селектором класса и селектором типа абзаца, но не между селектором типа абзаца и `mustard` селектором класса. Использование и пропуск пробелов имеет большое значение в селекторах.\n",
        "\n",
        "Поскольку между селектором типа абзаца и селектором `mustard` класса нет пробела, это означает, что селектор будет выбирать только элементы абзаца с классом `mustard`. Если бы селектор типа абзаца был удален и `mustard` селектор класса имел пробелы с обеих сторон от него, он выбрал бы любой элемент с классом `mustard`, а не только абзацы.\n",
        "\n",
        "Лучше всего не ставить перед селектором класса префикс селектора типа. Обычно мы хотим выбрать любой элемент с заданным классом, а не только один тип элемента. И, следуя этой передовой практике, наш новый комбинированный селектор будет лучше, чем `.hotdog .mustard`."
      ]
    },
    {
      "cell_type": "markdown",
      "metadata": {},
      "source": [
        "Читая комбинированный селектор справа налево, он ориентируется на абзацы со значением атрибута класса, `mustard` которые находятся внутри элемента со значением атрибута класса `hotdog`.\n",
        "\n",
        "Различные типы селекторов можно комбинировать для выбора любого заданного элемента на странице. По мере того, как мы продолжаем писать разные комбинированные селекторы, мы увидим, как их возможности оживают. Однако прежде чем мы это сделаем, давайте посмотрим, как комбинирование селекторов изменяет вес специфичности селектора."
      ]
    },
    {
      "cell_type": "markdown",
      "metadata": {},
      "source": [
        "### Специфичность комбинированных селекторов"
      ]
    },
    {
      "cell_type": "markdown",
      "metadata": {},
      "source": [
        "Когда селекторы комбинируются, то же самое происходит и с весами специфичности отдельных селекторов. Эти комбинированные веса специфичности могут быть рассчитаны путем подсчета каждого отдельного типа селектора в комбинированном селекторе."
      ]
    },
    {
      "cell_type": "markdown",
      "metadata": {},
      "source": [
        "Глядя на наши комбинированные селекторы из прошлого, первый селектор `.hotdog p` имел как селектор класса, так и селектор типа. Зная, что значение точки селектора класса равно 0-1-0, а значение точки селектора типа равно 0-0-1, общее комбинированное значение точки будет 0-1-1. Найдено путем сложения каждого вида селектора."
      ]
    },
    {
      "cell_type": "markdown",
      "metadata": {},
      "source": [
        "Второй селектор `.hotdog p.mustard` имел два селектора класса и один селектор типа. В совокупности селектор имеет значение в баллах специфичности 0-2-1. \n",
        "\n",
        "В первом столбце указаны селекторы с нулевым идентификатором, во втором столбце - два селектора класса, а в последнем столбце - один селектор типа."
      ]
    },
    {
      "cell_type": "markdown",
      "metadata": {},
      "source": [
        "Сравнивая два селектора, второй селектор с двумя его классами имеет заметно более высокий вес специфичности и значение в баллах. \n",
        "\n",
        "Таким образом, он будет иметь приоритет в каскаде. Если бы мы изменили порядок этих селекторов в нашей таблице стилей, поместив селектор с более высоким весом над селектором с меньшим весом, как показано здесь, внешний вид их стилей не изменился бы из-за веса специфичности каждого селектора."
      ]
    },
    {
      "cell_type": "markdown",
      "metadata": {},
      "source": [
        "### Слои стилей с несколькими классами"
      ]
    },
    {
      "cell_type": "markdown",
      "metadata": {},
      "source": [
        "Один из способов сохранить низкий вес специфичности селекторов - использование модульности, т.е. разделение одинаковых стилей от элемента к элементу. \n",
        "\n",
        "Это можно реализовать с использованием нескольких классов.\n",
        "\n",
        "Элементы в HTML могут иметь более одного значения атрибута класса, если каждое значение разделено пробелом. При этом мы можем размещать определенные стили на всех элементах одного типа, а другие стили размещать только на определенных элементах этого типа.\n",
        "\n",
        "Мы можем связать стили, которые мы хотим постоянно использовать повторно, с одним классом и накладывать дополнительные стили из другого класса.\n",
        "\n",
        "Взглянем, например, на кнопки. Скажем, мы хотим, чтобы все наши кнопки имели размер шрифта в 16пикселях, но мы хотим, чтобы цвет фона наших кнопок варьировался в зависимости от того, где они используются. Мы можем создать несколько классов и наложить их на элемент по мере необходимости, чтобы применить желаемые стили."
      ]
    },
    {
      "cell_type": "markdown",
      "metadata": {},
      "source": [
        "<iframe height=\"300\" style=\"width: 100%;\" scrolling=\"no\" title=\"Style Layers\" src=\"https://codepen.io/serjievg/embed/NWvZgvN?default-tab=html%2Cresult\" frameborder=\"no\" loading=\"lazy\" allowtransparency=\"true\" allowfullscreen=\"true\">\n",
        "  See the Pen <a href=\"https://codepen.io/serjievg/pen/NWvZgvN\">\n",
        "  Style Layers</a> by Чесноков Сергей Евгеньевич (<a href=\"https://codepen.io/serjievg\">@serjievg</a>)\n",
        "  on <a href=\"https://codepen.io\">CodePen</a>.\n",
        "</iframe>"
      ]
    },
    {
      "cell_type": "markdown",
      "metadata": {},
      "source": [
        "Здесь вы можете увидеть два элемента привязки, оба с несколькими значениями атрибутов класса. Первый класс btn используется для применения размера шрифта в 16пикселях к каждому из элементов. Затем первый элемент привязки использует дополнительный класс btn-danger для применения redцвета фона, а второй элемент привязки использует дополнительный класс btn-success для применения greenцвета фона. Наши стили здесь чистые и модульные.\n",
        "\n",
        "Используя несколько классов, мы можем накладывать столько стилей, сколько захотим, сохраняя при этом компактный код и низкие веса специфичности. Подобно пониманию каскада и расчету специфичности, это практика, которую нужно время, чтобы полностью усвоить, но мы будем становиться лучше с каждым уроком."
      ]
    },
    {
      "cell_type": "markdown",
      "metadata": {},
      "source": [
        "## Общие значения свойств CSS"
      ]
    },
    {
      "cell_type": "markdown",
      "metadata": {},
      "source": [
        "Мы уже использовали несколько общих значений свойств CSS, таких как значения цвета ключевых слов redи green. Возможно, вы не слишком много думали о них; это нормально. Сейчас мы потратим время, чтобы просмотреть некоторые ранее использованные значения свойств, а также изучить некоторые из наиболее распространенных значений свойств, которые мы скоро будем использовать.\n",
        "\n",
        "В частности, мы рассмотрим значения свойств, относящиеся к цветам и измерениям длины."
      ]
    },
    {
      "cell_type": "markdown",
      "metadata": {},
      "source": [
        "### Цвета"
      ]
    },
    {
      "cell_type": "markdown",
      "metadata": {},
      "source": [
        "Все значения цвета в CSS определены в цветовом пространстве sRGB (или стандартном красном, зеленом и синем). Цвета в этом пространстве формируются путем смешивания красного, зеленого и синего цветовых каналов вместе, отражая способ, которым телевизоры и мониторы генерируют все различные цвета, которые они отображают. Смешивая разные уровни красного, зеленого и синего, мы можем создать миллионы цветов и найти практически любой цвет, который нам нужен.\n",
        "\n",
        "В настоящее время существует четыре основных способа представления цветов sRGB в CSS: ключевые слова, шестнадцатеричное представление и значения RGB и HSL."
      ]
    },
    {
      "cell_type": "markdown",
      "metadata": {},
      "source": [
        "### Цвета ключевых слов"
      ]
    },
    {
      "cell_type": "markdown",
      "metadata": {},
      "source": [
        "Ключевое значение цвета имена (такие как red, greenили blue) , которые сопоставляются данным цветом. Эти имена ключевых слов и соответствующие им цвета определяются спецификацией CSS. Самые распространенные цвета, а также некоторые странности имеют имена ключевых слов.\n",
        "\n",
        "Полный список этих имен ключевых слов можно найти в [спецификации CSS](https://www.w3.org/TR/css3-color/)."
      ]
    },
    {
      "cell_type": "markdown",
      "metadata": {},
      "source": [
        "Здесь мы применяем maroonфон к любому элементу со taskзначением атрибута класса и yellowфон к любому элементу со countзначением атрибута класса."
      ]
    },
    {
      "cell_type": "markdown",
      "metadata": {},
      "source": [
        "```css\n",
        ".task {\n",
        "  background: maroon;\n",
        "}\n",
        ".count {\n",
        "  background: yellow;\n",
        "}\n",
        "```"
      ]
    },
    {
      "cell_type": "markdown",
      "metadata": {},
      "source": [
        "Хотя значения цвета ключевых слов просты по своей природе, они предоставляют ограниченные возможности и, следовательно, не являются самым популярным выбором значений цвета."
      ]
    },
    {
      "cell_type": "markdown",
      "metadata": {},
      "source": [
        "### Шестнадцатеричные цвета"
      ]
    },
    {
      "cell_type": "markdown",
      "metadata": {},
      "source": [
        "Шестнадцатеричные значения цвета состоят из решетки или решетки, #за которой следует трех- или шестизначная цифра. Цифры использовать цифры 0через 9и буквы aчерез f, верхний или нижний регистр. Эти значения соответствуют красному, зеленому и синему цветовым каналам.\n",
        "\n",
        "В шестизначной записи первые два символа представляют красный канал, третий и четвертый символы представляют зеленый канал, а последние два символа представляют синий канал. В трехсимвольной записи первый символ представляет красный канал, второй символ представляет зеленый канал, а последний символ представляет синий канал.\n",
        "\n",
        "Если в шестизначной нотации первые два символа представляют собой совпадающую пару, третий и четвертый символы представляют собой совпадающую пару, а последние два символа представляют собой совпадающую пару, шестизначная цифра может быть сокращена до трехсимвольной цифры. Для этого нужно один раз использовать повторяющийся символ из каждой пары. Например, оттенок оранжевого, представленный шестнадцатеричным цветом, #ff6600также может быть записан как #f60."
      ]
    },
    {
      "cell_type": "markdown",
      "metadata": {},
      "source": [
        "Пары символов получаются путем преобразования 0через 255в базу-16, или шестнадцатеричный формат,. Математика немного сложна и достойна отдельной книги, но помогает знать, что 0равняется черному и fравняется белому."
      ]
    },
    {
      "cell_type": "markdown",
      "metadata": {},
      "source": [
        "Чтобы создать те же цвета maroonи yellowцвета фона, что и раньше, мы могли бы заменить значения цвета ключевого слова шестнадцатеричными значениями цвета, как показано здесь."
      ]
    },
    {
      "cell_type": "markdown",
      "metadata": {},
      "source": [
        "```css\n",
        ".task {\n",
        "  background: #800000;\n",
        "}\n",
        ".count {\n",
        "  background: #ff0;\n",
        "}\n",
        "```"
      ]
    },
    {
      "cell_type": "markdown",
      "metadata": {},
      "source": [
        "Шестнадцатеричные значения цвета существуют уже некоторое время, и они стали довольно популярными, поскольку предлагают большое количество вариантов цвета. Однако с ними немного сложно работать, особенно если вы не слишком хорошо с ними знакомы. К счастью, Adobe создала [Adobe Kuler](https://kuler.adobe.com/), бесплатное приложение, которое предоставляет цветовое колесо, которое помогает нам найти любой цвет, который мы хотим, и соответствующее ему шестнадцатеричное значение.\n",
        "\n",
        "Кроме того, большинство приложений для редактирования изображений, например Adobe Photoshop, предоставляют возможность находить шестнадцатеричные значения цвета."
      ]
    },
    {
      "cell_type": "markdown",
      "metadata": {},
      "source": [
        "### Цвета RGB и RGBa"
      ]
    },
    {
      "cell_type": "markdown",
      "metadata": {},
      "source": [
        "Значения цвета RGB указываются с помощью rgb()функции, которая обозначает красный, зеленый и синий. Функция принимает три значения, разделенных запятыми, каждое из которых является целым числом от 0до 255. Значение 0будет чисто черным; значение 255будет чисто белым.\n",
        "\n",
        "Как и следовало ожидать, первое значение в rgb()функции представляет красный канал, второе значение представляет зеленый канал, а третье значение представляет синий канал.\n",
        "\n",
        "Если бы мы воссоздали оттенок оранжевого раньше как значение цвета RGB, он был бы представлен как rgb(255, 102, 0).\n",
        "\n",
        "Кроме того, используя те же цвета maroonи yellowцвета фона, что и раньше, мы могли бы заменить ключевое слово или шестнадцатеричные значения цвета на значения цвета RGB.\n",
        "\n"
      ]
    },
    {
      "cell_type": "markdown",
      "metadata": {},
      "source": [
        "```css\n",
        ".task {\n",
        "  background: rgb(128, 0, 0);\n",
        "}\n",
        ".count {\n",
        "  background: rgb(255, 255, 0);\n",
        "}\n",
        "```"
      ]
    },
    {
      "cell_type": "markdown",
      "metadata": {},
      "source": [
        "Значения цвета RGB могут также включать альфа-канал или канал прозрачности с помощью rgba()функции. rgba()Функция требует четвертого значения, которое должно быть числом между 0и 1, в том числе знаков после запятой. Значение 0создает полностью прозрачный цвет, что означает, что он будет невидимым, а значение 1создает полностью непрозрачный цвет. Любое десятичное значение между 0и 1создаст полупрозрачный цвет.\n",
        "\n",
        "Если бы мы хотели, чтобы наш оттенок оранжевого выглядел на 50% непрозрачным, мы бы использовали значение цвета RGBa, равное rgba(255, 102, 0, .5).\n",
        "\n",
        "Мы также можем изменить непрозрачность нашего цвета maroonи yellowцвета фона. Следующий код устанавливает maroonцвет фона на 25% непрозрачным и оставляет yellowцвет фона на 100% непрозрачным."
      ]
    },
    {
      "cell_type": "markdown",
      "metadata": {},
      "source": [
        "```css\n",
        ".task {\n",
        "  background: rgba(128, 0, 0, .25);\n",
        "}\n",
        ".count {\n",
        "  background: rgba(255, 255, 0, 1);\n",
        "}\n",
        "```"
      ]
    },
    {
      "cell_type": "markdown",
      "metadata": {},
      "source": [
        "Цветовые значения RGB становятся все более популярными, особенно из-за возможности создавать полупрозрачные цвета с помощью RGBa."
      ]
    },
    {
      "cell_type": "markdown",
      "metadata": {},
      "source": [
        "### Цвета HSL и HSLa"
      ]
    },
    {
      "cell_type": "markdown",
      "metadata": {},
      "source": [
        "Значения цвета HSL указываются с помощью hsl()функции, которая обозначает оттенок, насыщенность и яркость. В скобках функция принимает три значения, разделенных запятыми, как и rgb().\n",
        "\n",
        "Первое значение, оттенок, является безразмерным числом от 0до 360. Числа до 0конца 360представляют цветовое колесо, а значение определяет степень цвета на цветовом круге.\n",
        "\n",
        "Второе и третье значения, насыщенность и яркость, представляют собой процентные значения от 0до 100%. Значение насыщенности определяет, насколько насыщен оттенок цветом, с 0оттенками серого и 100%полностью насыщенным. Яркость определяет, насколько темным или светлым является значение оттенка, когда 0он полностью черный или 100%полностью белый.\n",
        "\n",
        "Возвращаясь к нашему оттенку оранжевого, в качестве значения цвета HSL он будет записан как hsl(24, 100%, 50%).\n",
        "\n",
        "Наши цвета maroonи yellowцвета фона также могут быть указаны как значения цвета HSL, как показано здесь."
      ]
    },
    {
      "cell_type": "markdown",
      "metadata": {},
      "source": [
        "```css\n",
        ".task {\n",
        "  background: hsl(0, 100%, 25%);\n",
        "}\n",
        ".count {\n",
        "  background: hsl(60, 100%, 50%);\n",
        "}\n",
        "```"
      ]
    },
    {
      "cell_type": "markdown",
      "metadata": {},
      "source": [
        "Значения цвета HSL, такие как RGBa, могут также включать альфа-канал или канал прозрачности с использованием этой hsla()функции. Поведение альфа-канала такое же, как у rgba()функции. Четвертое значение между 0и 1, включая десятичные дроби, должно быть добавлено к функции для определения степени непрозрачности.\n",
        "\n",
        "Наш оттенок оранжевого как цвет HSLa, установленный на 50% непрозрачности, будет представлен как hsla(24, 100%, 50%, .5).\n",
        "\n",
        "Тот же 25% непрозрачный maroonфоновый цвет и 100% непрозрачный yellowфоновый цвет из предыдущих будут выглядеть как значения цвета HSLa следующим образом."
      ]
    },
    {
      "cell_type": "markdown",
      "metadata": {},
      "source": [
        "```css\n",
        ".task {\n",
        "  background: hsla(0, 100%, 25%, .25);\n",
        "}\n",
        ".count {\n",
        "  background: hsla(60, 100%, 50%, 1);\n",
        "}\n",
        "```"
      ]
    },
    {
      "cell_type": "markdown",
      "metadata": {},
      "source": [
        "Значение цвета HSL - это новейшее значение цвета, доступное в CSS. Однако из-за своего возраста и поддержки в браузерах он не так широко используется, как другие значения.\n",
        "\n",
        "В настоящее время наиболее популярными остаются шестнадцатеричные значения цвета, поскольку они широко поддерживаются; хотя, когда для прозрачности необходим альфа-канал, предпочтительны значения цвета RGBa. Эти настройки могут измениться в будущем, но пока мы будем использовать шестнадцатеричные значения цвета и значения цвета RGBa."
      ]
    },
    {
      "cell_type": "markdown",
      "metadata": {},
      "source": [
        "## Длина"
      ]
    },
    {
      "cell_type": "markdown",
      "metadata": {},
      "source": [
        "Значения длины в CSS похожи на цвета тем, что существует несколько различных типов значений [длины](https://developer.mozilla.org/en-US/docs/Web/CSS/length), и все они служат разным целям. Значения длины бывают двух разных форм: абсолютной и относительной, в каждой из которых используются разные единицы измерения.\n",
        "\n",
        "Мы собираемся придерживаться более общих - и более простых - значений на данный момент, поскольку более сложные значения предоставят гораздо больше возможностей, чем нам нужно сейчас."
      ]
    },
    {
      "cell_type": "markdown",
      "metadata": {},
      "source": [
        "### Абсолютные длины"
      ]
    },
    {
      "cell_type": "markdown",
      "metadata": {},
      "source": [
        "`Абсолютные значения длины` - это простейшие значения длины, поскольку они привязаны к физическим измерениям, таким как дюймы, сантиметры или миллиметры. \n",
        "\n",
        "Самая популярная абсолютная единица измерения известна как `пиксель` и представлена  обозначением `px` единицы измерения."
      ]
    },
    {
      "cell_type": "markdown",
      "metadata": {},
      "source": [
        "### Пиксели"
      ]
    },
    {
      "cell_type": "markdown",
      "metadata": {},
      "source": [
        "Пиксель равен 1/96 дюйма; таким образом, в дюйме 96 пикселей. Однако точное измерение пикселя может незначительно отличаться для устройств просмотра с высокой и низкой плотностью.\n",
        "\n",
        "Пиксели существуют довольно давно и обычно используются с несколькими различными свойствами. Код здесь использует пиксели, чтобы установить размер шрифта всех абзацев в 14пикселях."
      ]
    },
    {
      "cell_type": "markdown",
      "metadata": {},
      "source": [
        "```html\n",
        "p {\n",
        "  font-size: 14px;\n",
        "}\n",
        "```"
      ]
    },
    {
      "cell_type": "markdown",
      "metadata": {},
      "source": [
        "Из-за меняющегося ландшафта устройств просмотра и изменения размеров их экранов пиксели потеряли часть своей популярности. В качестве абсолютной единицы измерения они не обеспечивают особой гибкости. Однако пиксели заслуживают доверия и отлично подходят для начала. Мы собираемся немного на них опираться, когда изучаем основы HTML и CSS."
      ]
    },
    {
      "cell_type": "markdown",
      "metadata": {},
      "source": [
        "### Относительная длина"
      ]
    },
    {
      "cell_type": "markdown",
      "metadata": {},
      "source": [
        "Помимо значений абсолютной длины, существуют также значения относительной длины. Значения относительной длины немного сложнее, поскольку они не являются фиксированными единицами измерения; они полагаются на длину другого измерения."
      ]
    },
    {
      "cell_type": "markdown",
      "metadata": {},
      "source": [
        "### Проценты"
      ]
    },
    {
      "cell_type": "markdown",
      "metadata": {},
      "source": [
        "Проценты, представленные в %единицах измерения, являются одними из самых популярных относительных величин. Длины в процентах определяются по отношению к длине другого объекта. Например, чтобы установить widthдля элемента значение 50%, мы должны знать ширину его родительского элемента, элемента, в который он вложен, а затем определить 50%ширину родительского элемента."
      ]
    },
    {
      "cell_type": "markdown",
      "metadata": {},
      "source": [
        "```css\n",
        ".col {\n",
        "  width: 50%;\n",
        "}\n",
        "```"
      ]
    },
    {
      "cell_type": "markdown",
      "metadata": {},
      "source": [
        "Здесь мы установили ширину элемента со значением атрибута класса colto 50%. Это 50%будет вычислено относительно ширины родительского элемента.\n",
        "\n",
        "Проценты чрезвычайно полезны для установки высоты и ширины элементов и построения макета веб-страницы. Мы будем часто полагаться на них, чтобы помочь нам в этих областях."
      ]
    },
    {
      "cell_type": "markdown",
      "metadata": {},
      "source": [
        "### em"
      ]
    },
    {
      "cell_type": "markdown",
      "metadata": {},
      "source": [
        "Единица em также является очень популярным относительным значением. Единица em представлена emобозначением единиц, а ее длина рассчитывается на основе размера шрифта элемента.\n",
        "\n",
        "Единица em эквивалентна размеру шрифта элемента. Так, например, если элемент имеет размер шрифта в 14пикселях и widthустановлен на 5em, ширина будет равна 70пикселям ( 14пиксели, умноженные на 5)."
      ]
    },
    {
      "cell_type": "markdown",
      "metadata": {},
      "source": [
        "```css\n",
        ".banner {\n",
        "  font-size: 14px;\n",
        "  width: 5em;\n",
        "}\n",
        "```"
      ]
    },
    {
      "cell_type": "markdown",
      "metadata": {},
      "source": [
        "Если размер шрифта не указан явно для элемента, единица em будет относиться к размеру шрифта ближайшего родительского элемента с указанным размером шрифта.\n",
        "\n",
        "Единица em часто используется для стилизации текста, включая размеры шрифта, а также интервалы вокруг текста, включая поля и отступы. Мы подробнее рассмотрим текст в Уроке 6 « Работа с типографикой ».\n",
        "\n",
        "Абсолютных и относительных единиц измерения намного больше, чем упомянутых здесь. Однако эти три - пиксели, проценты и em-единицы - самые популярные, и мы собираемся их использовать в первую очередь."
      ]
    }
  ],
  "metadata": {
    "colab": {
      "collapsed_sections": [
        "leSyFbUXo3dz",
        "fi9ToHPYp0v6",
        "CNy2FX_4pXJS",
        "e7WkVkNrq1ne",
        "G7SdfXxAI472",
        "Kp3Kb02zfQMD",
        "8ZFmIIICJC2x",
        "OHCcvZdxakFN"
      ],
      "name": "Лекция 2. Информационные процессы.ipynb",
      "provenance": []
    },
    "interpreter": {
      "hash": "b3ba2566441a7c06988d0923437866b63cedc61552a5af99d1f4fb67d367b25f"
    },
    "kernelspec": {
      "display_name": "Python 3.8.5 64-bit ('base': conda)",
      "name": "python3"
    },
    "language_info": {
      "codemirror_mode": {
        "name": "ipython",
        "version": 3
      },
      "file_extension": ".py",
      "mimetype": "text/x-python",
      "name": "python",
      "nbconvert_exporter": "python",
      "pygments_lexer": "ipython3",
      "version": "3.8.5"
    }
  },
  "nbformat": 4,
  "nbformat_minor": 0
}
