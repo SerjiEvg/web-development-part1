{
  "cells": [
    {
      "cell_type": "markdown",
      "metadata": {
        "id": "-6zgxzxhX2hc"
      },
      "source": [
        "# **Лекция 2. Создание веб-форм**\n"
      ]
    },
    {
      "cell_type": "markdown",
      "metadata": {},
      "source": [
        "## Зачем нужны формы?"
      ]
    },
    {
      "cell_type": "markdown",
      "metadata": {},
      "source": [
        "`Формы` являются неотъемлемой частью Интернета, поскольку они предоставляют веб-сайтам возможность собирать информацию от пользователей и обрабатывать запросы. Также формы предлагают элементы управления почти для каждого возможного использования приложения. \n",
        "\n",
        "Нам нужно знать как создаются формы, чтобы получать вводимые пользователем данные. "
      ]
    },
    {
      "cell_type": "markdown",
      "metadata": {},
      "source": [
        "## Инициализация формы"
      ]
    },
    {
      "cell_type": "markdown",
      "metadata": {},
      "source": [
        "Чтобы добавить форму на страницу, можно использовать элемент `<form>`. Элемент `<form>` определяет , где на элементах управления появится страница. \n",
        "\n",
        "Кроме того, элемент `<form>` будет обертывать все элементы, включенные в форму, так же, как это делает элемент `<div>`."
      ]
    },
    {
      "cell_type": "markdown",
      "metadata": {},
      "source": [
        "```html\n",
        "<form action=\"/login\" method=\"post\">\n",
        "  ...\n",
        "</form>\n",
        "```"
      ]
    },
    {
      "cell_type": "markdown",
      "metadata": {},
      "source": [
        "К элементу `<form>` можно применить несколько различных атрибутов , наиболее распространенными из которых являются `action` и `method`:\n",
        "\n",
        "- Атрибут `action` содержит URL-адрес, на который информация, содержащаяся в форме будет отправлена для обработки на сервере. \n",
        "- Атрибут `method` служит для указаниея метода HTTP, который браузеры должны использовать для передачи данных формы. \n",
        "\n",
        "Оба эти атрибута `<form>` относятся к отправке и обработке данных."
      ]
    },
    {
      "cell_type": "markdown",
      "metadata": {},
      "source": [
        "## Text Fields и Textareas"
      ]
    },
    {
      "cell_type": "markdown",
      "metadata": {},
      "source": [
        "Когда дело касается получения введенного пользователями текста, есть несколько различных элементов, доступных для получения данных из форм. \n",
        "\n",
        "В частности, `текстовые поля (Text Fields)` и `текстовые области (Textareas)` используются для сбора текстовых или строковых данных. \n",
        "\n",
        "Эти данные могут включать отрывки текстового конента, пароли, номера телефонов и другую информацию."
      ]
    },
    {
      "cell_type": "markdown",
      "metadata": {},
      "source": [
        "### Текстовые поля"
      ]
    },
    {
      "cell_type": "markdown",
      "metadata": {},
      "source": [
        "Одним из основных элементов, используемых для получения текста от пользователей, является элемент `<input>`. Элемент `<input>` использует атрибут `type` для определения, какой тип информации должен быть захвачен в элементе управления. \n",
        "\n",
        "Самое популярное typeзначение атрибута `text` - это одна строка ввода текста.\n",
        "\n",
        "Наряду с установкой атрибута `type` рекомендуется также присвоить элементу `<input>` атрибут `name`. Значение  атрибута `name` используется в качестве имени элемента управления и отправляется на сервер вместе с входными данными."
      ]
    },
    {
      "cell_type": "markdown",
      "metadata": {},
      "source": [
        "```html\n",
        "<input type=\"text\" name=\"username\">\n",
        "```"
      ]
    },
    {
      "cell_type": "markdown",
      "metadata": {},
      "source": [
        "<iframe height=\"300\" style=\"width: 100%;\" scrolling=\"no\" title=\"Untitled\" src=\"https://codepen.io/serjievg/embed/LYjKpZJ?default-tab=html%2Cresult\" frameborder=\"no\" loading=\"lazy\" allowtransparency=\"true\" allowfullscreen=\"true\">\n",
        "  See the Pen <a href=\"https://codepen.io/serjievg/pen/LYjKpZJ\">\n",
        "  Untitled</a> by Чесноков Сергей Евгеньевич (<a href=\"https://codepen.io/serjievg\">@serjievg</a>)\n",
        "  on <a href=\"https://codepen.io\">CodePen</a>.\n",
        "</iframe>"
      ]
    },
    {
      "cell_type": "markdown",
      "metadata": {},
      "source": [
        "Элемент `<input>` является автономным, то есть он использует только один тег и им не обернуть любой другой контент. Элемент полностью определяется его атрибутами и соответствующими им значениями.\n",
        "\n",
        "Первоначально единственными двумя значениями текстовых атрибутов `type` были `text` и `password` (для ввода пароля); однако HTML5 принес с собой несколько новых значений атрибутов `type`.\n",
        "\n",
        "Эти значения были добавлены для обеспечения более четкого семантического значения входных данных, а также для обеспечения лучшего контроля для пользователей. Если браузер не распознает одно из этих  значений атрибута `type` HTML5, он автоматически вернется к значению атрибута `text`. \n",
        "\n",
        "Ниже приведен список новых типов ввода HTML5:\n",
        "\n",
        "<table>\n",
        "<tr>\n",
        "<td>\n",
        "- color <br>\n",
        "- email <br>\n",
        "- range <br>\n",
        "- time <br>\n",
        "</td>\n",
        "<td>\n",
        "- date <br>\n",
        "- month <br>\n",
        "- search <br>\n",
        "- url <br>\n",
        "</td>\n",
        "<td>\n",
        "- datetime <br>\n",
        "- number <br>\n",
        "- tel <br>\n",
        "- week <br>\n",
        "</td>\n",
        "<tr>\n",
        "</table>\n",
        "\n",
        "\n",
        "\n"
      ]
    },
    {
      "cell_type": "markdown",
      "metadata": {},
      "source": [
        "<iframe height=\"300\" style=\"width: 100%;\" scrolling=\"no\" title=\"TextFields type\" src=\"https://codepen.io/serjievg/embed/GRvbpEK?default-tab=html%2Cresult\" frameborder=\"no\" loading=\"lazy\" allowtransparency=\"true\" allowfullscreen=\"true\">\n",
        "  See the Pen <a href=\"https://codepen.io/serjievg/pen/GRvbpEK\">\n",
        "  TextFields type</a> by Чесноков Сергей Евгеньевич (<a href=\"https://codepen.io/serjievg\">@serjievg</a>)\n",
        "  on <a href=\"https://codepen.io\">CodePen</a>.\n",
        "</iframe>"
      ]
    },
    {
      "cell_type": "markdown",
      "metadata": {},
      "source": [
        "### Текстовые области"
      ]
    },
    {
      "cell_type": "markdown",
      "metadata": {},
      "source": [
        "Другой элемент, который используется для захвата текстовых данных - это элемент `<textarea>`. Элемент `<textarea>` отличается от элемента `<input>` тем, что он может принимать большие отрывки из текста, охватывающего несколько строк. \n",
        "\n",
        "У элемента `<textarea>` также есть начальный и конечный теги, которые могут переносить простой текст. Поскольку элемент `<textarea>` принимает только один тип значения, атрибут  `type` здесь не применяется, но атрибут `name` все еще используется."
      ]
    },
    {
      "cell_type": "markdown",
      "metadata": {},
      "source": [
        "```html\n",
        "<textarea name=\"comment\">Add your comment here</textarea>\n",
        "```"
      ]
    },
    {
      "cell_type": "markdown",
      "metadata": {},
      "source": [
        "<iframe height=\"300\" style=\"width: 100%;\" scrolling=\"no\" title=\"Textarea\" src=\"https://codepen.io/serjievg/embed/JjyQYOm?default-tab=html%2Cresult\" frameborder=\"no\" loading=\"lazy\" allowtransparency=\"true\" allowfullscreen=\"true\">\n",
        "  See the Pen <a href=\"https://codepen.io/serjievg/pen/JjyQYOm\">\n",
        "  Textarea</a> by Чесноков Сергей Евгеньевич (<a href=\"https://codepen.io/serjievg\">@serjievg</a>)\n",
        "  on <a href=\"https://codepen.io\">CodePen</a>.\n",
        "</iframe>"
      ]
    },
    {
      "cell_type": "markdown",
      "metadata": {},
      "source": [
        "У элемента `<textarea>` есть два атрибута изменения размера: `cols` - для задания ширины, с точки зрения средней ширины символа, и `rows` - для высоты, с точки зрения количества строк видимого текста. Размер текстового поля, однако, более обычно идентифицируется с использованием свойств `width` и `height` в пределах CSS."
      ]
    },
    {
      "cell_type": "markdown",
      "metadata": {},
      "source": [
        "## Элементы выбора и меню"
      ]
    },
    {
      "cell_type": "markdown",
      "metadata": {},
      "source": [
        "Помимо текстовых элементов управления вводом, HTML также позволяет пользователям выбирать данные, используя множественный выбор и раскрывающиеся списки. Для этих элементов управления формой есть несколько различных вариантов и элементов, каждый из которых имеет определенные преимущества."
      ]
    },
    {
      "cell_type": "markdown",
      "metadata": {},
      "source": [
        "### Radio buttons (Радио кнопки)"
      ]
    },
    {
      "cell_type": "markdown",
      "metadata": {},
      "source": [
        "`Радиокнопки` - это простой способ позволить пользователям сделать быстрый выбор из небольшого списка опций. Радиокнопки позволяют пользователям выбирать только один вариант, а не несколько.\n",
        "\n",
        "Для создания переключателя используетсяэлемент `<input>` со  значением `radio` атрибута `type` . Каждый элемент переключателя должен иметь одно и то же значение атрибута `name`, чтобы все кнопки в группе соответствовали друг другу.\n",
        "\n",
        "В случае текстовых вводов значение ввода определяется тем, что вводит пользователь; с помощью переключателей пользователь делает выбор из нескольких вариантов. \n",
        "\n",
        "Таким образом, мы должны определить входное значение. Используя  атрибутv `value`, мы можем установить конкретное значение для каждого элемента `<input>`.\n",
        "\n",
        "Кроме того, чтобы предварительно выбрать переключатель для пользователей, мы можем использовать установленный логический атрибут."
      ]
    },
    {
      "cell_type": "markdown",
      "metadata": {},
      "source": [
        "<iframe height=\"300\" style=\"width: 100%;\" scrolling=\"no\" title=\"Radio buttons\" src=\"https://codepen.io/serjievg/embed/RwZzWew?default-tab=html%2Cresult\" frameborder=\"no\" loading=\"lazy\" allowtransparency=\"true\" allowfullscreen=\"true\">\n",
        "  See the Pen <a href=\"https://codepen.io/serjievg/pen/RwZzWew\">\n",
        "  Radio buttons</a> by Чесноков Сергей Евгеньевич (<a href=\"https://codepen.io/serjievg\">@serjievg</a>)\n",
        "  on <a href=\"https://codepen.io\">CodePen</a>.\n",
        "</iframe>"
      ]
    },
    {
      "cell_type": "markdown",
      "metadata": {},
      "source": [
        "### Check Boxes (Флажки)"
      ]
    },
    {
      "cell_type": "markdown",
      "metadata": {},
      "source": [
        "`Флажки` очень похожи на переключатели. Они используют те же атрибуты и шаблоны, за исключением флажка в качестве typeзначения их атрибута. \n",
        "\n",
        "Разница между ними заключается в том, что флажки позволяют пользователям выбирать несколько значений и связывать их все с одним именем элемента управления, в то время как переключатели ограничивают пользователей одним значением."
      ]
    },
    {
      "cell_type": "markdown",
      "metadata": {},
      "source": [
        "<iframe height=\"300\" style=\"width: 100%;\" scrolling=\"no\" title=\"Check Boxes\" src=\"https://codepen.io/serjievg/embed/mdMZeQJ?default-tab=html%2Cresult\" frameborder=\"no\" loading=\"lazy\" allowtransparency=\"true\" allowfullscreen=\"true\">\n",
        "  See the Pen <a href=\"https://codepen.io/serjievg/pen/mdMZeQJ\">\n",
        "  Check Boxes</a> by Чесноков Сергей Евгеньевич (<a href=\"https://codepen.io/serjievg\">@serjievg</a>)\n",
        "  on <a href=\"https://codepen.io\">CodePen</a>.\n",
        "</iframe>"
      ]
    },
    {
      "cell_type": "markdown",
      "metadata": {},
      "source": [
        "### Drop-Down Lists (Выпадающие списки)"
      ]
    },
    {
      "cell_type": "markdown",
      "metadata": {},
      "source": [
        "`Выпадающие списки` - идеальный способ предоставить пользователям длинный список вариантов на практике. Длинный столбец переключателей рядом со списком различных опций не только непривлекателен визуально, но и сложен для понимания пользователями, особенно на мобильных устройствах. \n",
        "\n",
        "С другой стороны, раскрывающиеся списки представляют собой идеальный формат для длинного списка вариантов.\n",
        "\n",
        "Для того, чтобы создать выпадающий список мы будем использовать  элементы `<select>` и `<option>`. В элементе `<select>` заключены все параметры меню, и каждый пункт меню помечен с помощью этого элемента `<option>`."
      ]
    },
    {
      "cell_type": "markdown",
      "metadata": {},
      "source": [
        "Атрибут `name` находится в элементе `<select>`, и атрибут `value` находится в элементах `<option>`, которые вложены в элементы `<select>`. Атрибут `value` каждого элемента `<option>` связывыется со значением `name` элемента `<select>`.\n",
        "\n",
        "Каждый элемент `<option>` оборачивает текст (который виден пользователям) отдельной опции в списке.\n",
        "\n",
        "Подобно  логическому атрибуту `checked` для переключателей и флажков, раскрывающиеся меню могут использовать логический атрибут `selected` для предварительного выбора варианта пользователей."
      ]
    },
    {
      "cell_type": "markdown",
      "metadata": {},
      "source": [
        "<iframe height=\"300\" style=\"width: 100%;\" scrolling=\"no\" title=\"Drop-Down List\" src=\"https://codepen.io/serjievg/embed/WNEqrgK?default-tab=html%2Cresult\" frameborder=\"no\" loading=\"lazy\" allowtransparency=\"true\" allowfullscreen=\"true\">\n",
        "  See the Pen <a href=\"https://codepen.io/serjievg/pen/WNEqrgK\">\n",
        "  Drop-Down List</a> by Чесноков Сергей Евгеньевич (<a href=\"https://codepen.io/serjievg\">@serjievg</a>)\n",
        "  on <a href=\"https://codepen.io\">CodePen</a>.\n",
        "</iframe>"
      ]
    },
    {
      "cell_type": "markdown",
      "metadata": {},
      "source": [
        "### Multiple Selections (Множественный выбор)"
      ]
    },
    {
      "cell_type": "markdown",
      "metadata": {},
      "source": [
        "Атрибут `Boolean multiple`, добавленный к элементу `<select>` стандартного раскрывающегося списка, позволяет пользователю выбрать более одного варианта из списка за раз. \n",
        "\n",
        "Кроме того, использование логического атрибута `selected` более чем для одного элемента `<option>` в меню приведет к предварительному выбору нескольких параметров.\n",
        "\n",
        "Размер элемента `<select>` можно контролировать с помощью CSS, и его следует соответствующим образом отрегулировать, чтобы обеспечить возможность множественного выбора. \n",
        "\n",
        "Возможно, стоит проинформировать пользователей, что для выбора нескольких опций им нужно будет удерживать нажатой клавишу `Shift` при щелчке, чтобы сделать свой выбор."
      ]
    },
    {
      "cell_type": "markdown",
      "metadata": {},
      "source": [
        "<iframe height=\"300\" style=\"width: 100%;\" scrolling=\"no\" title=\"Multiple Selections\" src=\"https://codepen.io/serjievg/embed/yLodeGw?default-tab=html%2Cresult\" frameborder=\"no\" loading=\"lazy\" allowtransparency=\"true\" allowfullscreen=\"true\">\n",
        "  See the Pen <a href=\"https://codepen.io/serjievg/pen/yLodeGw\">\n",
        "  Multiple Selections</a> by Чесноков Сергей Евгеньевич (<a href=\"https://codepen.io/serjievg\">@serjievg</a>)\n",
        "  on <a href=\"https://codepen.io\">CodePen</a>.\n",
        "</iframe>"
      ]
    },
    {
      "cell_type": "markdown",
      "metadata": {},
      "source": [
        "## Кнопки на формах"
      ]
    },
    {
      "cell_type": "markdown",
      "metadata": {},
      "source": [
        "После того, как пользователь вводит запрошенную информацию, кнопки позволяют пользователю привести эту информацию в действие. Чаще всего для обработки данных используется кнопка ввода или отправки."
      ]
    },
    {
      "cell_type": "markdown",
      "metadata": {},
      "source": [
        "### Кнопка отправки"
      ]
    },
    {
      "cell_type": "markdown",
      "metadata": {},
      "source": [
        "Пользователи нажимают кнопку отправки, чтобы обработать данные после заполнения формы. \n",
        "\n",
        "Кнопка отправки создается с использованием элемента `<input>` со  значением `submit` атрибута `type`. Атрибут `value` используется, чтобы задать текст, который появляется внутри кнопки."
      ]
    },
    {
      "cell_type": "markdown",
      "metadata": {},
      "source": [
        "<iframe height=\"300\" style=\"width: 100%;\" scrolling=\"no\" title=\"Submit\" src=\"https://codepen.io/serjievg/embed/LYjKGKb?default-tab=html%2Cresult\" frameborder=\"no\" loading=\"lazy\" allowtransparency=\"true\" allowfullscreen=\"true\">\n",
        "  See the Pen <a href=\"https://codepen.io/serjievg/pen/LYjKGKb\">\n",
        "  Submit</a> by Чесноков Сергей Евгеньевич (<a href=\"https://codepen.io/serjievg\">@serjievg</a>)\n",
        "  on <a href=\"https://codepen.io\">CodePen</a>.\n",
        "</iframe>"
      ]
    },
    {
      "cell_type": "markdown",
      "metadata": {},
      "source": [
        "Как и элемент `<input>`, кнопка отправки является самодостаточной и не может обернуть какой-либо другой контент. \n",
        "\n",
        "Если желателен больший контроль над структурой и дизайном ввода, а также возможность заключать `<button>` в оболочку нужно использовать другие элементы.\n",
        "\n",
        "Элемент `<button>` исполняется таким же образом, как и элемент `<input>` с значением `submit` атрибута `type`; однако он включает открывающие и закрывающие теги, которые могут заключать в себе другие элементы. \n",
        "\n",
        "По умолчанию элемент `<button>` действует так, как если бы он имеет значение `submit` атрибута `type`, поэтому атрибут `type` и его значение могут быть опущены в элементе `<button>`, если вы хотите.\n",
        "\n",
        "Вместо использования атрибута `value` для управления текстом внутри кнопки отправки `<button>` будет отображаться текст, который появляется между открывающим и закрывающим тегами элемента."
      ]
    },
    {
      "cell_type": "markdown",
      "metadata": {},
      "source": [
        "<iframe height=\"300\" style=\"width: 100%;\" scrolling=\"no\" title=\"Submit + message\" src=\"https://codepen.io/serjievg/embed/JjyQXPK?default-tab=html%2Cresult\" frameborder=\"no\" loading=\"lazy\" allowtransparency=\"true\" allowfullscreen=\"true\">\n",
        "  See the Pen <a href=\"https://codepen.io/serjievg/pen/JjyQXPK\">\n",
        "  Submit + message</a> by Чесноков Сергей Евгеньевич (<a href=\"https://codepen.io/serjievg\">@serjievg</a>)\n",
        "  on <a href=\"https://codepen.io\">CodePen</a>.\n",
        "</iframe>"
      ]
    },
    {
      "cell_type": "markdown",
      "metadata": {},
      "source": [
        "## Другие элементы Input"
      ]
    },
    {
      "cell_type": "markdown",
      "metadata": {},
      "source": [
        "Помимо приложений, которые мы только что обсудили, у этого элемента `<input>` есть еще несколько вариантов использования. К ним относятся передача скрытых данных и прикрепление файлов во время обработки формы."
      ]
    },
    {
      "cell_type": "markdown",
      "metadata": {},
      "source": [
        "### Hidden Input (Скрытый ввод)"
      ]
    },
    {
      "cell_type": "markdown",
      "metadata": {},
      "source": [
        "Скрытые ввод данных позволяет передавать данные на сервер, не отображая их для пользователей. \n",
        "\n",
        "Скрытые ввод данных обычно используются для кодов отслеживания, ключей или другой информации, которая не имеет отношения к пользователю, но полезна при обработке формы. Эта информация не отображается на странице; однако его можно найти, просмотрев исходный код страницы. Поэтому его не следует использовать для конфиденциальной или защищенной информации.\n",
        "\n",
        "Чтобы создать скрытый ввод, вы используете значение `hidden` атрибута `type`. Кроме того, укажите соответствующие значения атрибуты `name` и `value`."
      ]
    },
    {
      "cell_type": "markdown",
      "metadata": {},
      "source": [
        "<iframe height=\"300\" style=\"width: 100%;\" scrolling=\"no\" title=\"Untitled\" src=\"https://codepen.io/serjievg/embed/XWaLdKX?default-tab=html%2Cresult\" frameborder=\"no\" loading=\"lazy\" allowtransparency=\"true\" allowfullscreen=\"true\">\n",
        "  See the Pen <a href=\"https://codepen.io/serjievg/pen/XWaLdKX\">\n",
        "  Untitled</a> by Чесноков Сергей Евгеньевич (<a href=\"https://codepen.io/serjievg\">@serjievg</a>)\n",
        "  on <a href=\"https://codepen.io\">CodePen</a>.\n",
        "</iframe>"
      ]
    },
    {
      "cell_type": "markdown",
      "metadata": {},
      "source": [
        "### File Input (Ввод файла)"
      ]
    },
    {
      "cell_type": "markdown",
      "metadata": {},
      "source": [
        "Чтобы пользователи могли добавлять файл в форму, так же, как прикрепление файла к электронному письму, используйте fileзначение typeатрибута."
      ]
    },
    {
      "cell_type": "markdown",
      "metadata": {},
      "source": [
        "<iframe height=\"300\" style=\"width: 100%;\" scrolling=\"no\" title=\"File Input\" src=\"https://codepen.io/serjievg/embed/JjyQXRE?default-tab=html%2Cresult\" frameborder=\"no\" loading=\"lazy\" allowtransparency=\"true\" allowfullscreen=\"true\">\n",
        "  See the Pen <a href=\"https://codepen.io/serjievg/pen/JjyQXRE\">\n",
        "  File Input</a> by Чесноков Сергей Евгеньевич (<a href=\"https://codepen.io/serjievg\">@serjievg</a>)\n",
        "  on <a href=\"https://codepen.io\">CodePen</a>.\n",
        "</iframe>"
      ]
    },
    {
      "cell_type": "markdown",
      "metadata": {},
      "source": [
        "К сожалению, стилизация  элемента `<input>`, имеющего значение `file` атрибута `type`, является сложной задачей с помощью CSS. \n",
        "\n",
        "Каждый браузер имеет свой собственный стиль ввода по умолчанию, и ни один из них не предоставляет возможности для переопределения стиля по умолчанию. Для ввода файлов можно использовать JavaScript и другие решения, но их создать немного сложнее."
      ]
    },
    {
      "cell_type": "markdown",
      "metadata": {},
      "source": [
        "## Организация элементов формы"
      ]
    },
    {
      "cell_type": "markdown",
      "metadata": {},
      "source": [
        "Знание того, как собирать данные с помощью входных данных, - это половина дела. Другая половина - это организация элементов формы и элементов управления в удобной для использования манере. При взаимодействии с формами пользователи должны понимать, что от них требуется и как предоставить запрашиваемую информацию.\n",
        "\n",
        "Используя метки, наборы полей и легенды, мы можем лучше организовать формы и направить пользователей для их правильного заполнения."
      ]
    },
    {
      "cell_type": "markdown",
      "metadata": {},
      "source": [
        "### Label (Ярлык)"
      ]
    },
    {
      "cell_type": "markdown",
      "metadata": {},
      "source": [
        "`Ярлыки` предоставляют подписи или заголовки для элементов управления формой, однозначно связывая их вместе и создавая доступную форму для всех пользователей и вспомогательных технологий. Метки `<label>`, созданные с использованием элемента, должны включать текст, описывающий входные данные или элементы управления, к которым они относятся.\n",
        "\n",
        "Ярлыки могут включать атрибут `for`. Значение атрибута `for` должно быть таким же, как значение idатрибута в элементе управления формы, которому соответствует метка. Сопоставление значений атрибутов forи idсвязывает два элемента вместе, позволяя пользователям щелкнуть <label>элемент, чтобы перевести фокус на соответствующий элемент управления формы."
      ]
    },
    {
      "cell_type": "markdown",
      "metadata": {},
      "source": [
        "<iframe height=\"300\" style=\"width: 100%;\" scrolling=\"no\" title=\"Label\" src=\"https://codepen.io/serjievg/embed/vYJqGxd?default-tab=html%2Cresult\" frameborder=\"no\" loading=\"lazy\" allowtransparency=\"true\" allowfullscreen=\"true\">\n",
        "  See the Pen <a href=\"https://codepen.io/serjievg/pen/vYJqGxd\">\n",
        "  Label</a> by Чесноков Сергей Евгеньевич (<a href=\"https://codepen.io/serjievg\">@serjievg</a>)\n",
        "  on <a href=\"https://codepen.io\">CodePen</a>.\n",
        "</iframe>"
      ]
    },
    {
      "cell_type": "markdown",
      "metadata": {},
      "source": [
        "При желании элемент `<label>` может заключать в себе элементы управления формы, такие как переключатели или флажки. Это позволяет опускать атрибуты `for` и `id`."
      ]
    },
    {
      "cell_type": "markdown",
      "metadata": {},
      "source": [
        "<iframe height=\"300\" style=\"width: 100%;\" scrolling=\"no\" title=\"Labels + Radio\" src=\"https://codepen.io/serjievg/embed/yLodOXL?default-tab=html%2Cresult\" frameborder=\"no\" loading=\"lazy\" allowtransparency=\"true\" allowfullscreen=\"true\">\n",
        "  See the Pen <a href=\"https://codepen.io/serjievg/pen/yLodOXL\">\n",
        "  Labels + Radio</a> by Чесноков Сергей Евгеньевич (<a href=\"https://codepen.io/serjievg\">@serjievg</a>)\n",
        "  on <a href=\"https://codepen.io\">CodePen</a>.\n",
        "</iframe>"
      ]
    },
    {
      "cell_type": "markdown",
      "metadata": {},
      "source": [
        "### Fieldset"
      ]
    },
    {
      "cell_type": "markdown",
      "metadata": {},
      "source": [
        "Наборы полей группируют элементы управления и метки в организованные разделы. Подобно тому или иному структурному элементу `<section>`, `<fieldset>` - это элемент уровня блока, который обертывает связанные элементы, в частности, внутри элемента `<form>`, для лучшей организации. \n",
        "\n",
        "Наборы полей по умолчанию также включают контур границы, который можно изменить с помощью CSS."
      ]
    },
    {
      "cell_type": "markdown",
      "metadata": {},
      "source": [
        "<iframe height=\"300\" style=\"width: 100%;\" scrolling=\"no\" title=\"Fieldset\" src=\"https://codepen.io/serjievg/embed/KKvjzXP?default-tab=html%2Cresult\" frameborder=\"no\" loading=\"lazy\" allowtransparency=\"true\" allowfullscreen=\"true\">\n",
        "  See the Pen <a href=\"https://codepen.io/serjievg/pen/KKvjzXP\">\n",
        "  Fieldset</a> by Чесноков Сергей Евгеньевич (<a href=\"https://codepen.io/serjievg\">@serjievg</a>)\n",
        "  on <a href=\"https://codepen.io\">CodePen</a>.\n",
        "</iframe>"
      ]
    },
    {
      "cell_type": "markdown",
      "metadata": {},
      "source": [
        "### Legend (Легенда)"
      ]
    },
    {
      "cell_type": "markdown",
      "metadata": {},
      "source": [
        "Легенда обеспечивает заголовок или заголовок элемента `<fieldset>`. Элемент `<legend>` обертки текст, описывающий элементы формы, которые попадают в пределах полого. Разметка должна включать элемент `<legend>` сразу после открывающего тега `<fieldset>`. На странице легенда появится в верхней левой части границы набора полей."
      ]
    },
    {
      "cell_type": "markdown",
      "metadata": {},
      "source": [
        "<iframe height=\"300\" style=\"width: 100%;\" scrolling=\"no\" title=\"Legend\" src=\"https://codepen.io/serjievg/embed/dyzBMdJ?default-tab=html%2Cresult\" frameborder=\"no\" loading=\"lazy\" allowtransparency=\"true\" allowfullscreen=\"true\">\n",
        "  See the Pen <a href=\"https://codepen.io/serjievg/pen/dyzBMdJ\">\n",
        "  Legend</a> by Чесноков Сергей Евгеньевич (<a href=\"https://codepen.io/serjievg\">@serjievg</a>)\n",
        "  on <a href=\"https://codepen.io\">CodePen</a>.\n",
        "</iframe>"
      ]
    },
    {
      "cell_type": "markdown",
      "metadata": {},
      "source": [
        "## Атрибуты формы и ввода"
      ]
    },
    {
      "cell_type": "markdown",
      "metadata": {},
      "source": [
        "Для размещения всех различных элементов формы, ввода и управления существует ряд атрибутов и соответствующих значений. Эти атрибуты и значения служат для нескольких различных функций, таких как отключение элементов управления и добавление проверки формы. \n",
        "\n",
        "Далее описаны некоторые из наиболее часто используемых и полезных атрибутов."
      ]
    },
    {
      "cell_type": "markdown",
      "metadata": {},
      "source": [
        "### Отключено (Disabled)"
      ]
    },
    {
      "cell_type": "markdown",
      "metadata": {},
      "source": [
        "В логическом атрибуте `disabled` выключает элемент или элемент управления, чтобы он не был доступен для взаимодействия или ввода. \n",
        "\n",
        "Отключенные элементы не будут отправлять никаких значений на сервер для обработки формы.\n",
        "\n",
        "Применение логического атрибута `disabled` к элементу `<fieldset>` отключит все элементы управления формой в наборе полей. Если  атрибут `type` имеет значение `hidden`, логический атрибут `hidden` игнорируется."
      ]
    },
    {
      "cell_type": "markdown",
      "metadata": {},
      "source": [
        "<iframe height=\"300\" style=\"width: 100%;\" scrolling=\"no\" title=\"disabled\" src=\"https://codepen.io/serjievg/embed/YzxoqLL?default-tab=html%2Cresult\" frameborder=\"no\" loading=\"lazy\" allowtransparency=\"true\" allowfullscreen=\"true\">\n",
        "  See the Pen <a href=\"https://codepen.io/serjievg/pen/YzxoqLL\">\n",
        "  disabled</a> by Чесноков Сергей Евгеньевич (<a href=\"https://codepen.io/serjievg\">@serjievg</a>)\n",
        "  on <a href=\"https://codepen.io\">CodePen</a>.\n",
        "</iframe>"
      ]
    },
    {
      "cell_type": "markdown",
      "metadata": {},
      "source": [
        "### Заполнитель (placeholder)"
      ]
    },
    {
      "cell_type": "markdown",
      "metadata": {},
      "source": [
        "Атрибут `placeholder` HTML5 предоставляет подсказку или совет в элементе `<input>` управления формой или элемента `<textarea>`, который исчезает, как только был выбран элемент управлени и он получил фокус. \n",
        "\n",
        "Это используется для предоставления пользователям дополнительной информации о том, как следует вводить данные формы, например, какой формат адреса электронной почты использовать."
      ]
    },
    {
      "cell_type": "markdown",
      "metadata": {},
      "source": [
        "<iframe height=\"300\" style=\"width: 100%;\" scrolling=\"no\" title=\"Placeholder\" src=\"https://codepen.io/serjievg/embed/PoKrNaX?default-tab=html%2Cresult\" frameborder=\"no\" loading=\"lazy\" allowtransparency=\"true\" allowfullscreen=\"true\">\n",
        "  See the Pen <a href=\"https://codepen.io/serjievg/pen/PoKrNaX\">\n",
        "  Placeholder</a> by Чесноков Сергей Евгеньевич (<a href=\"https://codepen.io/serjievg\">@serjievg</a>)\n",
        "  on <a href=\"https://codepen.io\">CodePen</a>.\n",
        "</iframe>"
      ]
    },
    {
      "cell_type": "markdown",
      "metadata": {},
      "source": [
        "Основное различие между атрибутами `placeholder` и `value` является то , что  значение `value` атрибута текста остается на месте, когда элемент управления имеет фокус, если пользователь вручную не удалит его. \n",
        "\n",
        "Это отлично подходит для предварительного заполнения данных, таких как личная информация, для пользователя, но не для предоставления предложений."
      ]
    },
    {
      "cell_type": "markdown",
      "metadata": {},
      "source": [
        "### Требуемый (required)"
      ]
    },
    {
      "cell_type": "markdown",
      "metadata": {},
      "source": [
        "Атрибут `required` HTML5 применяет, что элемент управления или форма должна содержать значение при их представления на сервер. \n",
        "\n",
        "Если элемент или элемент управления формы не имеют значения, отображается сообщение об ошибке, в котором пользователю предлагается заполнить обязательное поле. \n",
        "\n",
        "В настоящее время стили сообщений об ошибках контролируются браузером и не могут быть стилизованы с помощью CSS. С другой стороны, недопустимые элементы и элементы управления формы могут быть стилизованы с помощью псевдоклассов CSS `:optional` и `:required`."
      ]
    },
    {
      "cell_type": "markdown",
      "metadata": {},
      "source": [
        "Проверка также происходит в зависимости от типа элемента управления. Например, элемент `<input>` со typeзначением атрибута `email` потребует не только наличия значения в элементе управления, но и того, что это действительный адрес электронной почты."
      ]
    },
    {
      "cell_type": "markdown",
      "metadata": {},
      "source": [
        "<iframe height=\"300\" style=\"width: 100%;\" scrolling=\"no\" title=\"Required\" src=\"https://codepen.io/serjievg/embed/VwzJaGx?default-tab=html%2Cresult\" frameborder=\"no\" loading=\"lazy\" allowtransparency=\"true\" allowfullscreen=\"true\">\n",
        "  See the Pen <a href=\"https://codepen.io/serjievg/pen/VwzJaGx\">\n",
        "  Required</a> by Чесноков Сергей Евгеньевич (<a href=\"https://codepen.io/serjievg\">@serjievg</a>)\n",
        "  on <a href=\"https://codepen.io\">CodePen</a>.\n",
        "</iframe>"
      ]
    }
  ],
  "metadata": {
    "colab": {
      "collapsed_sections": [
        "leSyFbUXo3dz",
        "fi9ToHPYp0v6",
        "CNy2FX_4pXJS",
        "e7WkVkNrq1ne",
        "G7SdfXxAI472",
        "Kp3Kb02zfQMD",
        "8ZFmIIICJC2x",
        "OHCcvZdxakFN"
      ],
      "name": "Лекция 2. Информационные процессы.ipynb",
      "provenance": []
    },
    "interpreter": {
      "hash": "b3ba2566441a7c06988d0923437866b63cedc61552a5af99d1f4fb67d367b25f"
    },
    "kernelspec": {
      "display_name": "Python 3.8.5 64-bit ('base': conda)",
      "name": "python3"
    },
    "language_info": {
      "codemirror_mode": {
        "name": "ipython",
        "version": 3
      },
      "file_extension": ".py",
      "mimetype": "text/x-python",
      "name": "python",
      "nbconvert_exporter": "python",
      "pygments_lexer": "ipython3",
      "version": "3.8.5"
    }
  },
  "nbformat": 4,
  "nbformat_minor": 0
}
